{
 "cells": [
  {
   "cell_type": "code",
   "execution_count": 0,
   "metadata": {
    "application/vnd.databricks.v1+cell": {
     "cellMetadata": {
      "byteLimit": 2048000,
      "rowLimit": 10000
     },
     "inputWidgets": {},
     "nuid": "628be46a-7bba-4030-9ea0-3d78886bb19c",
     "showTitle": false,
     "title": ""
    }
   },
   "outputs": [],
   "source": [
    "from pyspark.sql import SparkSession\n",
    "from pyspark.sql.functions import sum, avg, col,monotonically_increasing_id\n",
    "\n",
    "spark = SparkSession.builder.appName(\"GoldLayerCreation\").getOrCreate()\n",
    "\n",
    "# Read the necessary Silver tables\n",
    "silver_sellers = spark.read.format(\"delta\").load(\"/mnt/delta/tables/silver/sellers\")\n",
    "silver_buyers = spark.read.format(\"delta\").load(\"/mnt/delta/tables/silver/buyers\")\n",
    "silver_users = spark.read.format(\"delta\").load(\"/mnt/delta/tables/silver/users\")\n",
    "silver_countries = spark.read.format(\"delta\").load(\"/mnt/delta/tables/silver/countries\")\n"
   ]
  },
  {
   "cell_type": "code",
   "execution_count": 0,
   "metadata": {
    "application/vnd.databricks.v1+cell": {
     "cellMetadata": {
      "byteLimit": 2048000,
      "rowLimit": 10000
     },
     "inputWidgets": {},
     "nuid": "23147d4d-57b9-409e-a9b2-8bc308a42395",
     "showTitle": false,
     "title": ""
    }
   },
   "outputs": [],
   "source": [
    "\n",
    "# Perform the join operations\n",
    "comprehensive_user_table = silver_users \\\n",
    "    .join(silver_countries, [\"country\"], \"outer\") \\\n",
    "    .join(silver_buyers, [\"country\"], \"outer\") \\\n",
    "    .join(silver_sellers, [\"country\"], \"outer\")\n",
    "\n",
    "# Select and alias columns from each dataframe to ensure uniqueness\n",
    "comprehensive_user_table = comprehensive_user_table.select(\n",
    "    silver_users[\"country\"].alias(\"Country\"),\n",
    "    # From silver_users\n",
    "    silver_users[\"productsSold\"].alias(\"Users_productsSold\"),\n",
    "    silver_users[\"productsWished\"].alias(\"Users_productsWished\"),\n",
    "    silver_users[\"account_age_years\"].alias(\"Users_account_age_years\"),\n",
    "    silver_users[\"account_age_group\"].alias(\"Users_account_age_group\"),\n",
    "    silver_users[\"hasanyapp\"].alias(\"Users_hasanyapp\"),\n",
    "    silver_users[\"socialnbfollowers\"].alias(\"Users_socialnbfollowers\"),\n",
    "    silver_users[\"flag_long_title\"].alias(\"Users_flag_long_title\"),\n",
    "    # Continue with other silver_users columns as needed...\n",
    "    \n",
    "    # From silver_countries\n",
    "    silver_countries[\"sellers\"].alias(\"Countries_Sellers\"),\n",
    "    silver_countries[\"topsellers\"].alias(\"Countries_TopSellers\"),\n",
    "    silver_countries[\"femalesellers\"].alias(\"Countries_FemaleSellers\"),\n",
    "    silver_countries[\"malesellers\"].alias(\"Countries_MaleSellers\"),\n",
    "    silver_countries[\"topfemalesellers\"].alias(\"Countries_TopFemaleSellers\"),\n",
    "    silver_countries[\"topmalesellers\"].alias(\"Countries_TopMaleSellers\"),\n",
    "    # Continue with other silver_countries columns as needed...\n",
    "     # From silver_buyers\n",
    "    silver_buyers[\"buyers\"].alias(\"Buyers_Total\"),\n",
    "    silver_buyers[\"topbuyers\"].alias(\"Buyers_Top\"),\n",
    "    silver_buyers[\"femalebuyers\"].alias(\"Buyers_Female\"),\n",
    "    silver_buyers[\"malebuyers\"].alias(\"Buyers_Male\"),\n",
    "    silver_buyers[\"topfemalebuyers\"].alias(\"Buyers_TopFemale\"),\n",
    "    silver_buyers[\"topmalebuyers\"].alias(\"Buyers_TopMale\"),\n",
    "    # Continue with other silver_buyers columns as needed...\n",
    "    \n",
    "    # From silver_sellers\n",
    "    silver_sellers[\"nbsellers\"].alias(\"Sellers_Total\"),\n",
    "    silver_sellers[\"sex\"].alias(\"Sellers_Sex\"),\n",
    "    silver_sellers[\"meanproductssold\"].alias(\"Sellers_MeanProductsSold\"),\n",
    "    silver_sellers[\"meanproductslisted\"].alias(\"Sellers_MeanProductsListed\"),\n",
    "    # Continue with other silver_sellers columns as needed...\n",
    ")\n",
    "\n",
    "    "
   ]
  },
  {
   "cell_type": "code",
   "execution_count": 0,
   "metadata": {
    "application/vnd.databricks.v1+cell": {
     "cellMetadata": {
      "byteLimit": 2048000,
      "rowLimit": 10000
     },
     "inputWidgets": {},
     "nuid": "6da42345-62ab-4ab7-b905-75ecfcb07cdf",
     "showTitle": false,
     "title": ""
    }
   },
   "outputs": [
    {
     "output_type": "stream",
     "name": "stdout",
     "output_type": "stream",
     "text": [
      "+-------+------------------+--------------------+-----------------------+-----------------------+---------------+-----------------------+---------------------+-----------------+--------------------+-----------------------+---------------------+--------------------------+------------------------+------------+----------+-------------+-----------+----------------+--------------+-------------+-----------+------------------------+--------------------------+\n|Country|Users_productsSold|Users_productsWished|Users_account_age_years|Users_account_age_group|Users_hasanyapp|Users_socialnbfollowers|Users_flag_long_title|Countries_Sellers|Countries_TopSellers|Countries_FemaleSellers|Countries_MaleSellers|Countries_TopFemaleSellers|Countries_TopMaleSellers|Buyers_Total|Buyers_Top|Buyers_Female|Buyers_Male|Buyers_TopFemale|Buyers_TopMale|Sellers_Total|Sellers_Sex|Sellers_MeanProductsSold|Sellers_MeanProductsListed|\n+-------+------------------+--------------------+-----------------------+-----------------------+---------------+-----------------------+---------------------+-----------------+--------------------+-----------------------+---------------------+--------------------------+------------------------+------------+----------+-------------+-----------+----------------+--------------+-------------+-----------+------------------------+--------------------------+\n|   NULL|              NULL|                NULL|                   NULL|                   NULL|           NULL|                   NULL|                 NULL|             NULL|                NULL|                   NULL|                 NULL|                      NULL|                    NULL|          16|         1|           12|          4|               0|             1|            5|     FEMALE|                    2.20|                      1.60|\n|   NULL|              NULL|                NULL|                   NULL|                   NULL|           NULL|                   NULL|                 NULL|               18|                   1|                     14|                    4|                         1|                       0|          49|         6|           40|          9|               5|             1|            5|       MALE|                    1.60|                      0.20|\n|   NULL|              NULL|                NULL|                   NULL|                   NULL|           NULL|                   NULL|                 NULL|             NULL|                NULL|                   NULL|                 NULL|                      NULL|                    NULL|           7|         2|            7|          0|               2|             0|            1|     FEMALE|                    0.00|                      3.00|\n|   NULL|              NULL|                NULL|                   NULL|                   NULL|           NULL|                   NULL|                 NULL|             NULL|                NULL|                   NULL|                 NULL|                      NULL|                    NULL|           2|         0|            1|          1|               0|             0|            1|       MALE|                    1.00|                      1.00|\n|   NULL|              NULL|                NULL|                   NULL|                   NULL|           NULL|                   NULL|                 NULL|             NULL|                NULL|                   NULL|                 NULL|                      NULL|                    NULL|          64|        10|           53|         11|               9|             1|            8|     FEMALE|                    2.50|                      1.25|\n+-------+------------------+--------------------+-----------------------+-----------------------+---------------+-----------------------+---------------------+-----------------+--------------------+-----------------------+---------------------+--------------------------+------------------------+------------+----------+-------------+-----------+----------------+--------------+-------------+-----------+------------------------+--------------------------+\nonly showing top 5 rows\n\n"
     ]
    }
   ],
   "source": [
    "\n",
    "comprehensive_user_table.show(5)"
   ]
  },
  {
   "cell_type": "code",
   "execution_count": 0,
   "metadata": {
    "application/vnd.databricks.v1+cell": {
     "cellMetadata": {
      "byteLimit": 2048000,
      "rowLimit": 10000
     },
     "inputWidgets": {},
     "nuid": "1b7c790b-f06c-4fef-8490-f6b936525683",
     "showTitle": false,
     "title": ""
    }
   },
   "outputs": [],
   "source": [
    "comprehensive_user_table.write.format(\"delta\").mode(\"overwrite\").save(\"/mnt/delta/tables/gold/ecom_one_big_table\")"
   ]
  },
  {
   "cell_type": "code",
   "execution_count": 0,
   "metadata": {
    "application/vnd.databricks.v1+cell": {
     "cellMetadata": {
      "byteLimit": 2048000,
      "rowLimit": 10000
     },
     "inputWidgets": {},
     "nuid": "636d44e6-5150-45c2-a0da-5423a6739e2e",
     "showTitle": false,
     "title": ""
    }
   },
   "outputs": [
    {
     "output_type": "stream",
     "name": "stdout",
     "output_type": "stream",
     "text": [
      "+-------+------------------+--------------------+-----------------------+-----------------------+---------------+-----------------------+---------------------+-----------------+--------------------+-----------------------+---------------------+--------------------------+------------------------+------------+----------+-------------+-----------+----------------+--------------+-------------+-----------+------------------------+--------------------------+\n|Country|Users_productsSold|Users_productsWished|Users_account_age_years|Users_account_age_group|Users_hasanyapp|Users_socialnbfollowers|Users_flag_long_title|Countries_Sellers|Countries_TopSellers|Countries_FemaleSellers|Countries_MaleSellers|Countries_TopFemaleSellers|Countries_TopMaleSellers|Buyers_Total|Buyers_Top|Buyers_Female|Buyers_Male|Buyers_TopFemale|Buyers_TopMale|Sellers_Total|Sellers_Sex|Sellers_MeanProductsSold|Sellers_MeanProductsListed|\n+-------+------------------+--------------------+-----------------------+-----------------------+---------------+-----------------------+---------------------+-----------------+--------------------+-----------------------+---------------------+--------------------------+------------------------+------------+----------+-------------+-----------+----------------+--------------+-------------+-----------+------------------------+--------------------------+\n|   NULL|              NULL|                NULL|                   NULL|                   NULL|           NULL|                   NULL|                 NULL|             NULL|                NULL|                   NULL|                 NULL|                      NULL|                    NULL|          16|         1|           12|          4|               0|             1|            5|     FEMALE|                    2.20|                      1.60|\n|   NULL|              NULL|                NULL|                   NULL|                   NULL|           NULL|                   NULL|                 NULL|               18|                   1|                     14|                    4|                         1|                       0|          49|         6|           40|          9|               5|             1|            5|       MALE|                    1.60|                      0.20|\n|   NULL|              NULL|                NULL|                   NULL|                   NULL|           NULL|                   NULL|                 NULL|             NULL|                NULL|                   NULL|                 NULL|                      NULL|                    NULL|           7|         2|            7|          0|               2|             0|            1|     FEMALE|                    0.00|                      3.00|\n|   NULL|              NULL|                NULL|                   NULL|                   NULL|           NULL|                   NULL|                 NULL|             NULL|                NULL|                   NULL|                 NULL|                      NULL|                    NULL|           2|         0|            1|          1|               0|             0|            1|       MALE|                    1.00|                      1.00|\n|   NULL|              NULL|                NULL|                   NULL|                   NULL|           NULL|                   NULL|                 NULL|             NULL|                NULL|                   NULL|                 NULL|                      NULL|                    NULL|          64|        10|           53|         11|               9|             1|            8|     FEMALE|                    2.50|                      1.25|\n|   NULL|              NULL|                NULL|                   NULL|                   NULL|           NULL|                   NULL|                 NULL|                9|                   4|                      6|                    3|                         4|                       0|           9|         4|            7|          2|               3|             1|            3|       MALE|                    4.67|                      0.33|\n|   NULL|              NULL|                NULL|                   NULL|                   NULL|           NULL|                   NULL|                 NULL|             NULL|                NULL|                   NULL|                 NULL|                      NULL|                    NULL|           5|         0|            4|          1|               0|             0|            3|     FEMALE|                    3.33|                      1.33|\n|   NULL|              NULL|                NULL|                   NULL|                   NULL|           NULL|                   NULL|                 NULL|             NULL|                NULL|                   NULL|                 NULL|                      NULL|                    NULL|           3|         0|            3|          0|               0|             0|            1|     FEMALE|                    0.00|                      2.00|\n|   NULL|              NULL|                NULL|                   NULL|                   NULL|           NULL|                   NULL|                 NULL|               54|                   2|                     42|                   12|                         1|                       1|         144|        15|          118|         26|              10|             5|           15|       MALE|                    4.93|                      3.33|\n|   NULL|              NULL|                NULL|                   NULL|                   NULL|           NULL|                   NULL|                 NULL|              289|                  21|                    232|                   57|                        18|                       3|         792|        38|          560|        232|              30|             8|           64|       MALE|                    5.69|                      1.61|\n|   NULL|              NULL|                NULL|                   NULL|                   NULL|           NULL|                   NULL|                 NULL|              150|                   6|                    118|                   32|                         5|                       1|         912|        31|          700|        212|              21|            10|           41|       MALE|                    3.66|                      3.49|\n|   NULL|              NULL|                NULL|                   NULL|                   NULL|           NULL|                   NULL|                 NULL|               13|                   2|                     10|                    3|                         1|                       1|          28|         3|           22|          6|               2|             1|            4|       MALE|                    6.00|                      9.75|\n|   NULL|              NULL|                NULL|                   NULL|                   NULL|           NULL|                   NULL|                 NULL|              713|                  25|                    523|                  190|                        20|                       5|        1251|        53|          851|        400|              33|            20|          233|       MALE|                    2.79|                      2.12|\n|   NULL|              NULL|                NULL|                   NULL|                   NULL|           NULL|                   NULL|                 NULL|                1|                   1|                      1|                    0|                         1|                       0|           3|         0|            2|          1|               0|             0|            1|     FEMALE|                   57.00|                     56.00|\n|   NULL|              NULL|                NULL|                   NULL|                   NULL|           NULL|                   NULL|                 NULL|             NULL|                NULL|                   NULL|                 NULL|                      NULL|                    NULL|          20|         1|           18|          2|               1|             0|            2|       MALE|                    0.50|                      1.50|\n|   NULL|              NULL|                NULL|                   NULL|                   NULL|           NULL|                   NULL|                 NULL|              119|                  13|                     97|                   22|                        10|                       3|         255|        21|          189|         66|              18|             3|           30|       MALE|                    6.80|                      5.10|\n|   NULL|              NULL|                NULL|                   NULL|                   NULL|           NULL|                   NULL|                 NULL|                4|                   1|                      4|                    0|                         1|                       0|           5|         0|            5|          0|               0|             0|            1|       MALE|                    0.00|                      1.00|\n|   NULL|              NULL|                NULL|                   NULL|                   NULL|           NULL|                   NULL|                 NULL|               10|                   1|                     10|                    0|                         1|                       0|           9|         1|            7|          2|               1|             0|           10|     FEMALE|                   10.70|                      6.90|\n|   NULL|              NULL|                NULL|                   NULL|                   NULL|           NULL|                   NULL|                 NULL|             NULL|                NULL|                   NULL|                 NULL|                      NULL|                    NULL|          58|         1|           45|         13|               1|             0|            5|       MALE|                    1.20|                      0.00|\n|   NULL|              NULL|                NULL|                   NULL|                   NULL|           NULL|                   NULL|                 NULL|              105|                   5|                     79|                   26|                         4|                       1|         578|        29|          409|        169|              21|             8|           34|       MALE|                    2.00|                      1.00|\n+-------+------------------+--------------------+-----------------------+-----------------------+---------------+-----------------------+---------------------+-----------------+--------------------+-----------------------+---------------------+--------------------------+------------------------+------------+----------+-------------+-----------+----------------+--------------+-------------+-----------+------------------------+--------------------------+\nonly showing top 20 rows\n\n"
     ]
    }
   ],
   "source": [
    "comprehensive_user_table.show()"
   ]
  },
  {
   "cell_type": "code",
   "execution_count": 0,
   "metadata": {
    "application/vnd.databricks.v1+cell": {
     "cellMetadata": {},
     "inputWidgets": {},
     "nuid": "872b1893-d3d8-467a-b407-2f232dd5151d",
     "showTitle": false,
     "title": ""
    }
   },
   "outputs": [],
   "source": []
  }
 ],
 "metadata": {
  "application/vnd.databricks.v1+notebook": {
   "dashboards": [],
   "environmentMetadata": {
    "base_environment": "",
    "client": "1"
   },
   "language": "python",
   "notebookMetadata": {
    "pythonIndentUnit": 4
   },
   "notebookName": "Gold_Layer",
   "widgets": {}
  }
 },
 "nbformat": 4,
 "nbformat_minor": 0
}
