{
 "cells": [
  {
   "cell_type": "code",
   "execution_count": 0,
   "metadata": {
    "application/vnd.databricks.v1+cell": {
     "cellMetadata": {
      "byteLimit": 2048000,
      "implicitDf": true,
      "rowLimit": 10000
     },
     "inputWidgets": {},
     "nuid": "9603481f-1024-44a7-bed4-f8555e395d72",
     "showTitle": false,
     "title": ""
    }
   },
   "outputs": [
    {
     "output_type": "execute_result",
     "data": {
      "text/plain": [
       "True"
      ]
     },
     "execution_count": 15,
     "metadata": {},
     "output_type": "execute_result"
    }
   ],
   "source": [
    "\n",
    "configs = {\"fs.azure.account.auth.type\": \"OAuth\",\n",
    "\"fs.azure.account.oauth.provider.type\": \"org.apache.hadoop.fs.azurebfs.oauth2.ClientCredsTokenProvider\",\n",
    "\"fs.azure.account.oauth2.client.id\": \"\",\n",
    "\"fs.azure.account.oauth2.client.secret\": '',\n",
    "\"fs.azure.account.oauth2.client.endpoint\": \"https://login.microsoftonline.com/tenet-id/oauth2/token\"}\n",
    "\n",
    "\n",
    "dbutils.fs.mount(\n",
    "source = \"abfss://processed-user-data@ecomadls.dfs.core.windows.net\", # contrainer@storageacc\n",
    "mount_point = \"/mnt/delta/processed-user-data\",\n",
    "extra_configs = configs)"
   ]
  },
  {
   "cell_type": "code",
   "execution_count": 0,
   "metadata": {
    "application/vnd.databricks.v1+cell": {
     "cellMetadata": {
      "byteLimit": 2048000,
      "rowLimit": 10000
     },
     "inputWidgets": {},
     "nuid": "9a970c57-3f83-4484-8887-47ac1847d85f",
     "showTitle": false,
     "title": ""
    }
   },
   "outputs": [
    {
     "output_type": "display_data",
     "data": {
      "text/html": [
       "<style scoped>\n",
       "  .table-result-container {\n",
       "    max-height: 300px;\n",
       "    overflow: auto;\n",
       "  }\n",
       "  table, th, td {\n",
       "    border: 1px solid black;\n",
       "    border-collapse: collapse;\n",
       "  }\n",
       "  th, td {\n",
       "    padding: 5px;\n",
       "  }\n",
       "  th {\n",
       "    text-align: left;\n",
       "  }\n",
       "</style><div class='table-result-container'><table class='table-result'><thead style='background-color: white'><tr><th>path</th><th>name</th><th>size</th><th>modificationTime</th></tr></thead><tbody><tr><td>dbfs:/mnt/delta/processed-user-data/_delta_log/</td><td>_delta_log/</td><td>0</td><td>1724946596000</td></tr><tr><td>dbfs:/mnt/delta/processed-user-data/part-00000-1d152a62-bbf6-4b0e-81e2-0d1e02f2b5f9.c000.snappy.parquet</td><td>part-00000-1d152a62-bbf6-4b0e-81e2-0d1e02f2b5f9.c000.snappy.parquet</td><td>531538</td><td>1724952091000</td></tr><tr><td>dbfs:/mnt/delta/processed-user-data/part-00000-1d5df6ac-d33f-417d-94e3-15c742404143.c000.snappy.parquet</td><td>part-00000-1d5df6ac-d33f-417d-94e3-15c742404143.c000.snappy.parquet</td><td>2585495</td><td>1724947271000</td></tr><tr><td>dbfs:/mnt/delta/processed-user-data/part-00000-31e72263-7e18-4a7b-9c7a-317e226b1a1d.c000.snappy.parquet</td><td>part-00000-31e72263-7e18-4a7b-9c7a-317e226b1a1d.c000.snappy.parquet</td><td>2585495</td><td>1724947268000</td></tr><tr><td>dbfs:/mnt/delta/processed-user-data/part-00000-330bbf30-39d0-4093-b4f0-721c80fa08cf.c000.snappy.parquet</td><td>part-00000-330bbf30-39d0-4093-b4f0-721c80fa08cf.c000.snappy.parquet</td><td>1044910</td><td>1724952984000</td></tr><tr><td>dbfs:/mnt/delta/processed-user-data/part-00000-3910d819-474d-409f-80cf-f3f3f67dcbf4.c000.snappy.parquet</td><td>part-00000-3910d819-474d-409f-80cf-f3f3f67dcbf4.c000.snappy.parquet</td><td>532715</td><td>1724946597000</td></tr><tr><td>dbfs:/mnt/delta/processed-user-data/part-00000-4a4076a6-04a1-4c23-b1a0-28dc641185dc.c000.snappy.parquet</td><td>part-00000-4a4076a6-04a1-4c23-b1a0-28dc641185dc.c000.snappy.parquet</td><td>2585495</td><td>1724947272000</td></tr><tr><td>dbfs:/mnt/delta/processed-user-data/part-00000-53fb93fa-182b-466a-a63b-3b42cb34a26a.c000.snappy.parquet</td><td>part-00000-53fb93fa-182b-466a-a63b-3b42cb34a26a.c000.snappy.parquet</td><td>531538</td><td>1724951830000</td></tr><tr><td>dbfs:/mnt/delta/processed-user-data/part-00000-91916045-e49e-40e1-8e11-292cd8fc0fcb.c000.snappy.parquet</td><td>part-00000-91916045-e49e-40e1-8e11-292cd8fc0fcb.c000.snappy.parquet</td><td>1044910</td><td>1724952399000</td></tr><tr><td>dbfs:/mnt/delta/processed-user-data/part-00000-a5bb8081-bec3-4b41-8d21-abdc6a030067.c000.snappy.parquet</td><td>part-00000-a5bb8081-bec3-4b41-8d21-abdc6a030067.c000.snappy.parquet</td><td>1559882</td><td>1724947263000</td></tr><tr><td>dbfs:/mnt/delta/processed-user-data/part-00000-b21d4b5f-7c11-41ca-8ff6-3e17290d22ac.c000.snappy.parquet</td><td>part-00000-b21d4b5f-7c11-41ca-8ff6-3e17290d22ac.c000.snappy.parquet</td><td>531538</td><td>1724952395000</td></tr><tr><td>dbfs:/mnt/delta/processed-user-data/part-00000-bb8ca205-8414-4b58-a81b-c25c87bb9f0b.c000.snappy.parquet</td><td>part-00000-bb8ca205-8414-4b58-a81b-c25c87bb9f0b.c000.snappy.parquet</td><td>531538</td><td>1724952043000</td></tr><tr><td>dbfs:/mnt/delta/processed-user-data/part-00000-cd1157b4-9e77-4fe5-94d0-2bcef2683dd9.c000.snappy.parquet</td><td>part-00000-cd1157b4-9e77-4fe5-94d0-2bcef2683dd9.c000.snappy.parquet</td><td>531538</td><td>1724951449000</td></tr><tr><td>dbfs:/mnt/delta/processed-user-data/part-00000-ef2db50f-aa52-4c4a-8f4a-6d6be3f66023.c000.snappy.parquet</td><td>part-00000-ef2db50f-aa52-4c4a-8f4a-6d6be3f66023.c000.snappy.parquet</td><td>531538</td><td>1724951835000</td></tr><tr><td>dbfs:/mnt/delta/processed-user-data/part-00001-16694d2e-7976-4663-8be0-2fd969199e66.c000.snappy.parquet</td><td>part-00001-16694d2e-7976-4663-8be0-2fd969199e66.c000.snappy.parquet</td><td>530805</td><td>1724952399000</td></tr><tr><td>dbfs:/mnt/delta/processed-user-data/part-00001-272f2522-4061-4c31-a6e2-2859b98f746d.c000.snappy.parquet</td><td>part-00001-272f2522-4061-4c31-a6e2-2859b98f746d.c000.snappy.parquet</td><td>531538</td><td>1724946597000</td></tr><tr><td>dbfs:/mnt/delta/processed-user-data/part-00001-2ca35e3e-a328-45ca-b941-0b856f225826.c000.snappy.parquet</td><td>part-00001-2ca35e3e-a328-45ca-b941-0b856f225826.c000.snappy.parquet</td><td>1045533</td><td>1724947263000</td></tr><tr><td>dbfs:/mnt/delta/processed-user-data/part-00001-4c69448a-e2f9-4c49-b9ce-d3277452f699.c000.snappy.parquet</td><td>part-00001-4c69448a-e2f9-4c49-b9ce-d3277452f699.c000.snappy.parquet</td><td>529541</td><td>1724951835000</td></tr><tr><td>dbfs:/mnt/delta/processed-user-data/part-00001-5a557db1-f781-49d2-863b-122bdd016f8c.c000.snappy.parquet</td><td>part-00001-5a557db1-f781-49d2-863b-122bdd016f8c.c000.snappy.parquet</td><td>529541</td><td>1724951830000</td></tr><tr><td>dbfs:/mnt/delta/processed-user-data/part-00001-7488394c-9bde-4688-a134-a552b861d069.c000.snappy.parquet</td><td>part-00001-7488394c-9bde-4688-a134-a552b861d069.c000.snappy.parquet</td><td>530805</td><td>1724952983000</td></tr><tr><td>dbfs:/mnt/delta/processed-user-data/part-00001-839ae266-0ce7-4758-8ff1-5a634decaa1e.c000.snappy.parquet</td><td>part-00001-839ae266-0ce7-4758-8ff1-5a634decaa1e.c000.snappy.parquet</td><td>529541</td><td>1724952091000</td></tr><tr><td>dbfs:/mnt/delta/processed-user-data/part-00001-b66c8c6b-700a-43e4-a0e5-6dc3b08bd52c.c000.snappy.parquet</td><td>part-00001-b66c8c6b-700a-43e4-a0e5-6dc3b08bd52c.c000.snappy.parquet</td><td>529541</td><td>1724952043000</td></tr><tr><td>dbfs:/mnt/delta/processed-user-data/part-00001-ce2d8545-4eea-4fb8-a2bf-eb84638f08e9.c000.snappy.parquet</td><td>part-00001-ce2d8545-4eea-4fb8-a2bf-eb84638f08e9.c000.snappy.parquet</td><td>529541</td><td>1724952395000</td></tr><tr><td>dbfs:/mnt/delta/processed-user-data/part-00002-08be1eb6-4354-42c4-8121-e4f55cdd7fa4.c000.snappy.parquet</td><td>part-00002-08be1eb6-4354-42c4-8121-e4f55cdd7fa4.c000.snappy.parquet</td><td>530805</td><td>1724952395000</td></tr><tr><td>dbfs:/mnt/delta/processed-user-data/part-00002-a1f665ff-d875-488e-88cc-05c215bb2ad4.c000.snappy.parquet</td><td>part-00002-a1f665ff-d875-488e-88cc-05c215bb2ad4.c000.snappy.parquet</td><td>529541</td><td>1724946597000</td></tr><tr><td>dbfs:/mnt/delta/processed-user-data/part-00003-7a6905e6-ba32-4dd3-971e-6e629657f98b.c000.snappy.parquet</td><td>part-00003-7a6905e6-ba32-4dd3-971e-6e629657f98b.c000.snappy.parquet</td><td>531358</td><td>1724946597000</td></tr></tbody></table></div>"
      ]
     },
     "metadata": {
      "application/vnd.databricks.v1+output": {
       "addedWidgets": {},
       "aggData": [],
       "aggError": "",
       "aggOverflow": false,
       "aggSchema": [],
       "aggSeriesLimitReached": false,
       "aggType": "",
       "arguments": {},
       "columnCustomDisplayInfos": {},
       "data": [
        [
         "dbfs:/mnt/delta/processed-user-data/_delta_log/",
         "_delta_log/",
         0,
         1724946596000
        ],
        [
         "dbfs:/mnt/delta/processed-user-data/part-00000-1d152a62-bbf6-4b0e-81e2-0d1e02f2b5f9.c000.snappy.parquet",
         "part-00000-1d152a62-bbf6-4b0e-81e2-0d1e02f2b5f9.c000.snappy.parquet",
         531538,
         1724952091000
        ],
        [
         "dbfs:/mnt/delta/processed-user-data/part-00000-1d5df6ac-d33f-417d-94e3-15c742404143.c000.snappy.parquet",
         "part-00000-1d5df6ac-d33f-417d-94e3-15c742404143.c000.snappy.parquet",
         2585495,
         1724947271000
        ],
        [
         "dbfs:/mnt/delta/processed-user-data/part-00000-31e72263-7e18-4a7b-9c7a-317e226b1a1d.c000.snappy.parquet",
         "part-00000-31e72263-7e18-4a7b-9c7a-317e226b1a1d.c000.snappy.parquet",
         2585495,
         1724947268000
        ],
        [
         "dbfs:/mnt/delta/processed-user-data/part-00000-330bbf30-39d0-4093-b4f0-721c80fa08cf.c000.snappy.parquet",
         "part-00000-330bbf30-39d0-4093-b4f0-721c80fa08cf.c000.snappy.parquet",
         1044910,
         1724952984000
        ],
        [
         "dbfs:/mnt/delta/processed-user-data/part-00000-3910d819-474d-409f-80cf-f3f3f67dcbf4.c000.snappy.parquet",
         "part-00000-3910d819-474d-409f-80cf-f3f3f67dcbf4.c000.snappy.parquet",
         532715,
         1724946597000
        ],
        [
         "dbfs:/mnt/delta/processed-user-data/part-00000-4a4076a6-04a1-4c23-b1a0-28dc641185dc.c000.snappy.parquet",
         "part-00000-4a4076a6-04a1-4c23-b1a0-28dc641185dc.c000.snappy.parquet",
         2585495,
         1724947272000
        ],
        [
         "dbfs:/mnt/delta/processed-user-data/part-00000-53fb93fa-182b-466a-a63b-3b42cb34a26a.c000.snappy.parquet",
         "part-00000-53fb93fa-182b-466a-a63b-3b42cb34a26a.c000.snappy.parquet",
         531538,
         1724951830000
        ],
        [
         "dbfs:/mnt/delta/processed-user-data/part-00000-91916045-e49e-40e1-8e11-292cd8fc0fcb.c000.snappy.parquet",
         "part-00000-91916045-e49e-40e1-8e11-292cd8fc0fcb.c000.snappy.parquet",
         1044910,
         1724952399000
        ],
        [
         "dbfs:/mnt/delta/processed-user-data/part-00000-a5bb8081-bec3-4b41-8d21-abdc6a030067.c000.snappy.parquet",
         "part-00000-a5bb8081-bec3-4b41-8d21-abdc6a030067.c000.snappy.parquet",
         1559882,
         1724947263000
        ],
        [
         "dbfs:/mnt/delta/processed-user-data/part-00000-b21d4b5f-7c11-41ca-8ff6-3e17290d22ac.c000.snappy.parquet",
         "part-00000-b21d4b5f-7c11-41ca-8ff6-3e17290d22ac.c000.snappy.parquet",
         531538,
         1724952395000
        ],
        [
         "dbfs:/mnt/delta/processed-user-data/part-00000-bb8ca205-8414-4b58-a81b-c25c87bb9f0b.c000.snappy.parquet",
         "part-00000-bb8ca205-8414-4b58-a81b-c25c87bb9f0b.c000.snappy.parquet",
         531538,
         1724952043000
        ],
        [
         "dbfs:/mnt/delta/processed-user-data/part-00000-cd1157b4-9e77-4fe5-94d0-2bcef2683dd9.c000.snappy.parquet",
         "part-00000-cd1157b4-9e77-4fe5-94d0-2bcef2683dd9.c000.snappy.parquet",
         531538,
         1724951449000
        ],
        [
         "dbfs:/mnt/delta/processed-user-data/part-00000-ef2db50f-aa52-4c4a-8f4a-6d6be3f66023.c000.snappy.parquet",
         "part-00000-ef2db50f-aa52-4c4a-8f4a-6d6be3f66023.c000.snappy.parquet",
         531538,
         1724951835000
        ],
        [
         "dbfs:/mnt/delta/processed-user-data/part-00001-16694d2e-7976-4663-8be0-2fd969199e66.c000.snappy.parquet",
         "part-00001-16694d2e-7976-4663-8be0-2fd969199e66.c000.snappy.parquet",
         530805,
         1724952399000
        ],
        [
         "dbfs:/mnt/delta/processed-user-data/part-00001-272f2522-4061-4c31-a6e2-2859b98f746d.c000.snappy.parquet",
         "part-00001-272f2522-4061-4c31-a6e2-2859b98f746d.c000.snappy.parquet",
         531538,
         1724946597000
        ],
        [
         "dbfs:/mnt/delta/processed-user-data/part-00001-2ca35e3e-a328-45ca-b941-0b856f225826.c000.snappy.parquet",
         "part-00001-2ca35e3e-a328-45ca-b941-0b856f225826.c000.snappy.parquet",
         1045533,
         1724947263000
        ],
        [
         "dbfs:/mnt/delta/processed-user-data/part-00001-4c69448a-e2f9-4c49-b9ce-d3277452f699.c000.snappy.parquet",
         "part-00001-4c69448a-e2f9-4c49-b9ce-d3277452f699.c000.snappy.parquet",
         529541,
         1724951835000
        ],
        [
         "dbfs:/mnt/delta/processed-user-data/part-00001-5a557db1-f781-49d2-863b-122bdd016f8c.c000.snappy.parquet",
         "part-00001-5a557db1-f781-49d2-863b-122bdd016f8c.c000.snappy.parquet",
         529541,
         1724951830000
        ],
        [
         "dbfs:/mnt/delta/processed-user-data/part-00001-7488394c-9bde-4688-a134-a552b861d069.c000.snappy.parquet",
         "part-00001-7488394c-9bde-4688-a134-a552b861d069.c000.snappy.parquet",
         530805,
         1724952983000
        ],
        [
         "dbfs:/mnt/delta/processed-user-data/part-00001-839ae266-0ce7-4758-8ff1-5a634decaa1e.c000.snappy.parquet",
         "part-00001-839ae266-0ce7-4758-8ff1-5a634decaa1e.c000.snappy.parquet",
         529541,
         1724952091000
        ],
        [
         "dbfs:/mnt/delta/processed-user-data/part-00001-b66c8c6b-700a-43e4-a0e5-6dc3b08bd52c.c000.snappy.parquet",
         "part-00001-b66c8c6b-700a-43e4-a0e5-6dc3b08bd52c.c000.snappy.parquet",
         529541,
         1724952043000
        ],
        [
         "dbfs:/mnt/delta/processed-user-data/part-00001-ce2d8545-4eea-4fb8-a2bf-eb84638f08e9.c000.snappy.parquet",
         "part-00001-ce2d8545-4eea-4fb8-a2bf-eb84638f08e9.c000.snappy.parquet",
         529541,
         1724952395000
        ],
        [
         "dbfs:/mnt/delta/processed-user-data/part-00002-08be1eb6-4354-42c4-8121-e4f55cdd7fa4.c000.snappy.parquet",
         "part-00002-08be1eb6-4354-42c4-8121-e4f55cdd7fa4.c000.snappy.parquet",
         530805,
         1724952395000
        ],
        [
         "dbfs:/mnt/delta/processed-user-data/part-00002-a1f665ff-d875-488e-88cc-05c215bb2ad4.c000.snappy.parquet",
         "part-00002-a1f665ff-d875-488e-88cc-05c215bb2ad4.c000.snappy.parquet",
         529541,
         1724946597000
        ],
        [
         "dbfs:/mnt/delta/processed-user-data/part-00003-7a6905e6-ba32-4dd3-971e-6e629657f98b.c000.snappy.parquet",
         "part-00003-7a6905e6-ba32-4dd3-971e-6e629657f98b.c000.snappy.parquet",
         531358,
         1724946597000
        ]
       ],
       "datasetInfos": [],
       "dbfsResultPath": null,
       "isJsonSchema": true,
       "metadata": {},
       "overflow": false,
       "plotOptions": {
        "customPlotOptions": {},
        "displayType": "table",
        "pivotAggregation": null,
        "pivotColumns": null,
        "xColumns": null,
        "yColumns": null
       },
       "removedWidgets": [],
       "schema": [
        {
         "metadata": "{}",
         "name": "path",
         "type": "\"string\""
        },
        {
         "metadata": "{}",
         "name": "name",
         "type": "\"string\""
        },
        {
         "metadata": "{}",
         "name": "size",
         "type": "\"long\""
        },
        {
         "metadata": "{}",
         "name": "modificationTime",
         "type": "\"long\""
        }
       ],
       "type": "table"
      }
     },
     "output_type": "display_data"
    }
   ],
   "source": [
    "# List the contents of the mounted directory\n",
    "display(dbutils.fs.ls(\"/mnt/delta/processed-user-data\"))\n"
   ]
  },
  {
   "cell_type": "code",
   "execution_count": 0,
   "metadata": {
    "application/vnd.databricks.v1+cell": {
     "cellMetadata": {
      "byteLimit": 2048000,
      "implicitDf": true,
      "rowLimit": 10000
     },
     "inputWidgets": {},
     "nuid": "3370341a-5156-4912-afcb-bd4c5ffb0683",
     "showTitle": false,
     "title": ""
    }
   },
   "outputs": [],
   "source": [
    "# Read the data from the mounted directory\n",
    "df = spark.read.format(\"delta\").load(\"/mnt/delta/processed-user-data\")\n",
    "\n",
    "# Write the data as a Delta table\n",
    "df.write.format(\"delta\").saveAsTable(\"processed_users\")\n"
   ]
  },
  {
   "cell_type": "code",
   "execution_count": 0,
   "metadata": {
    "application/vnd.databricks.v1+cell": {
     "cellMetadata": {
      "byteLimit": 2048000,
      "implicitDf": true,
      "rowLimit": 10000
     },
     "inputWidgets": {},
     "nuid": "2a20e27e-a1b5-4fb8-88a2-e2044f278863",
     "showTitle": false,
     "title": ""
    }
   },
   "outputs": [
    {
     "output_type": "display_data",
     "data": {
      "text/html": [
       "<style scoped>\n",
       "  .table-result-container {\n",
       "    max-height: 300px;\n",
       "    overflow: auto;\n",
       "  }\n",
       "  table, th, td {\n",
       "    border: 1px solid black;\n",
       "    border-collapse: collapse;\n",
       "  }\n",
       "  th, td {\n",
       "    padding: 5px;\n",
       "  }\n",
       "  th {\n",
       "    text-align: left;\n",
       "  }\n",
       "</style><div class='table-result-container'><table class='table-result'><thead style='background-color: white'><tr><th>count(1)</th></tr></thead><tbody><tr><td>1028706</td></tr></tbody></table></div>"
      ]
     },
     "metadata": {
      "application/vnd.databricks.v1+output": {
       "addedWidgets": {},
       "aggData": [],
       "aggError": "",
       "aggOverflow": false,
       "aggSchema": [],
       "aggSeriesLimitReached": false,
       "aggType": "",
       "arguments": {},
       "columnCustomDisplayInfos": {},
       "data": [
        [
         1028706
        ]
       ],
       "datasetInfos": [],
       "dbfsResultPath": null,
       "isJsonSchema": true,
       "metadata": {
        "dataframeName": "_sqldf",
        "executionCount": 3
       },
       "overflow": false,
       "plotOptions": {
        "customPlotOptions": {},
        "displayType": "table",
        "pivotAggregation": null,
        "pivotColumns": null,
        "xColumns": null,
        "yColumns": null
       },
       "removedWidgets": [],
       "schema": [
        {
         "metadata": "{\"__autoGeneratedAlias\":\"true\"}",
         "name": "count(1)",
         "type": "\"long\""
        }
       ],
       "type": "table"
      }
     },
     "output_type": "display_data"
    }
   ],
   "source": [
    "%sql\n",
    "select count(*) from processed_users"
   ]
  },
  {
   "cell_type": "code",
   "execution_count": 0,
   "metadata": {
    "application/vnd.databricks.v1+cell": {
     "cellMetadata": {},
     "inputWidgets": {},
     "nuid": "1601ea27-9aa5-49e4-919c-e491bce85dd2",
     "showTitle": false,
     "title": ""
    }
   },
   "outputs": [],
   "source": []
  }
 ],
 "metadata": {
  "application/vnd.databricks.v1+notebook": {
   "dashboards": [],
   "environmentMetadata": {
    "base_environment": "",
    "client": "1"
   },
   "language": "python",
   "notebookMetadata": {
    "mostRecentlyExecutedCommandWithImplicitDF": {
     "commandId": 3617526113740368,
     "dataframes": [
      "_sqldf"
     ]
    },
    "pythonIndentUnit": 4
   },
   "notebookName": "Delta Table",
   "widgets": {}
  }
 },
 "nbformat": 4,
 "nbformat_minor": 0
}
