{
 "cells": [
  {
   "cell_type": "code",
   "execution_count": 0,
   "metadata": {
    "application/vnd.databricks.v1+cell": {
     "cellMetadata": {
      "byteLimit": 2048000,
      "rowLimit": 10000
     },
     "inputWidgets": {},
     "nuid": "ec0fd9f3-7979-4cde-87f0-c13aeb12523b",
     "showTitle": false,
     "title": ""
    }
   },
   "outputs": [
    {
     "output_type": "execute_result",
     "data": {
      "text/plain": [
       "True"
      ]
     },
     "execution_count": 2,
     "metadata": {},
     "output_type": "execute_result"
    }
   ],
   "source": [
    "\n",
    "configs = {\"fs.azure.account.auth.type\": \"OAuth\",\n",
    "\"fs.azure.account.oauth.provider.type\": \"org.apache.hadoop.fs.azurebfs.oauth2.ClientCredsTokenProvider\",\n",
    "\"fs.azure.account.oauth2.client.id\": \"\",\n",
    "\"fs.azure.account.oauth2.client.secret\": '',\n",
    "\"fs.azure.account.oauth2.client.endpoint\": \"https://login.microsoftonline.com/tenet-id/oauth2/token\"}\n",
    "\n",
    "\n",
    "dbutils.fs.mount(\n",
    "source = \"abfss://landing-zone-2@ecomadls.dfs.core.windows.net\", # contrainer@storageacc\n",
    "mount_point = \"/mnt/ecomdata\",\n",
    "extra_configs = configs)"
   ]
  },
  {
   "cell_type": "code",
   "execution_count": 0,
   "metadata": {
    "application/vnd.databricks.v1+cell": {
     "cellMetadata": {
      "byteLimit": 2048000,
      "rowLimit": 10000
     },
     "inputWidgets": {},
     "nuid": "0c5db573-4895-4dba-af92-ad7fa230311d",
     "showTitle": false,
     "title": ""
    }
   },
   "outputs": [
    {
     "output_type": "display_data",
     "data": {
      "text/html": [
       "<style scoped>\n",
       "  .table-result-container {\n",
       "    max-height: 300px;\n",
       "    overflow: auto;\n",
       "  }\n",
       "  table, th, td {\n",
       "    border: 1px solid black;\n",
       "    border-collapse: collapse;\n",
       "  }\n",
       "  th, td {\n",
       "    padding: 5px;\n",
       "  }\n",
       "  th {\n",
       "    text-align: left;\n",
       "  }\n",
       "</style><div class='table-result-container'><table class='table-result'><thead style='background-color: white'><tr><th>path</th><th>name</th><th>size</th><th>modificationTime</th></tr></thead><tbody><tr><td>dbfs:/mnt/ecomdata/archive/</td><td>archive/</td><td>0</td><td>1724952117000</td></tr><tr><td>dbfs:/mnt/ecomdata/buyers-raw/</td><td>buyers-raw/</td><td>0</td><td>1724658536000</td></tr><tr><td>dbfs:/mnt/ecomdata/countries-raw/</td><td>countries-raw/</td><td>0</td><td>1724658545000</td></tr><tr><td>dbfs:/mnt/ecomdata/sellers-raw/</td><td>sellers-raw/</td><td>0</td><td>1724658527000</td></tr><tr><td>dbfs:/mnt/ecomdata/users-raw/</td><td>users-raw/</td><td>0</td><td>1724952987000</td></tr></tbody></table></div>"
      ]
     },
     "metadata": {
      "application/vnd.databricks.v1+output": {
       "addedWidgets": {},
       "aggData": [],
       "aggError": "",
       "aggOverflow": false,
       "aggSchema": [],
       "aggSeriesLimitReached": false,
       "aggType": "",
       "arguments": {},
       "columnCustomDisplayInfos": {},
       "data": [
        [
         "dbfs:/mnt/ecomdata/archive/",
         "archive/",
         0,
         1724952117000
        ],
        [
         "dbfs:/mnt/ecomdata/buyers-raw/",
         "buyers-raw/",
         0,
         1724658536000
        ],
        [
         "dbfs:/mnt/ecomdata/countries-raw/",
         "countries-raw/",
         0,
         1724658545000
        ],
        [
         "dbfs:/mnt/ecomdata/sellers-raw/",
         "sellers-raw/",
         0,
         1724658527000
        ],
        [
         "dbfs:/mnt/ecomdata/users-raw/",
         "users-raw/",
         0,
         1724952987000
        ]
       ],
       "datasetInfos": [],
       "dbfsResultPath": null,
       "isJsonSchema": true,
       "metadata": {
        "isDbfsCommandResult": false
       },
       "overflow": false,
       "plotOptions": {
        "customPlotOptions": {},
        "displayType": "table",
        "pivotAggregation": null,
        "pivotColumns": null,
        "xColumns": null,
        "yColumns": null
       },
       "removedWidgets": [],
       "schema": [
        {
         "metadata": "{}",
         "name": "path",
         "type": "\"string\""
        },
        {
         "metadata": "{}",
         "name": "name",
         "type": "\"string\""
        },
        {
         "metadata": "{}",
         "name": "size",
         "type": "\"long\""
        },
        {
         "metadata": "{}",
         "name": "modificationTime",
         "type": "\"long\""
        }
       ],
       "type": "table"
      }
     },
     "output_type": "display_data"
    }
   ],
   "source": [
    "%fs ls '/mnt/ecomdata'"
   ]
  },
  {
   "cell_type": "code",
   "execution_count": 0,
   "metadata": {
    "application/vnd.databricks.v1+cell": {
     "cellMetadata": {
      "byteLimit": 2048000,
      "rowLimit": 10000
     },
     "inputWidgets": {},
     "nuid": "5b487252-5a42-40ad-89dd-f24f9694a00b",
     "showTitle": false,
     "title": ""
    }
   },
   "outputs": [],
   "source": [
    "from pyspark.sql import SparkSession\n",
    "from pyspark.sql.functions import *\n",
    "from pyspark.sql.types import *\n"
   ]
  },
  {
   "cell_type": "code",
   "execution_count": 0,
   "metadata": {
    "application/vnd.databricks.v1+cell": {
     "cellMetadata": {
      "byteLimit": 2048000,
      "rowLimit": 10000
     },
     "inputWidgets": {},
     "nuid": "dc9cfd0e-5911-41e3-a0c5-fffb19956ba2",
     "showTitle": false,
     "title": ""
    }
   },
   "outputs": [],
   "source": [
    "spark = SparkSession.builder.appName(\"EcomDataPipeline\").getOrCreate()"
   ]
  },
  {
   "cell_type": "code",
   "execution_count": 0,
   "metadata": {
    "application/vnd.databricks.v1+cell": {
     "cellMetadata": {
      "byteLimit": 2048000,
      "rowLimit": 10000
     },
     "inputWidgets": {},
     "nuid": "ea09ccf6-c457-4f44-988c-5543ca8a3b65",
     "showTitle": false,
     "title": ""
    }
   },
   "outputs": [
    {
     "output_type": "execute_result",
     "data": {
      "text/html": [
       "\n",
       "            <div>\n",
       "                <p><b>SparkSession - hive</b></p>\n",
       "                \n",
       "        <div>\n",
       "            <p><b>SparkContext</b></p>\n",
       "\n",
       "            <p><a href=\"/?o=3249686173585282#setting/sparkui/0826-142609-gk9a2c3u/driver-8413104989531440785\">Spark UI</a></p>\n",
       "\n",
       "            <dl>\n",
       "              <dt>Version</dt>\n",
       "                <dd><code>v3.5.0</code></dd>\n",
       "              <dt>Master</dt>\n",
       "                <dd><code>local[*, 4]</code></dd>\n",
       "              <dt>AppName</dt>\n",
       "                <dd><code>Databricks Shell</code></dd>\n",
       "            </dl>\n",
       "        </div>\n",
       "        \n",
       "            </div>\n",
       "        "
      ],
      "text/plain": [
       "<pyspark.sql.session.SparkSession at 0x7fc7da1f6f20>"
      ]
     },
     "execution_count": 10,
     "metadata": {},
     "output_type": "execute_result"
    }
   ],
   "source": [
    "spark"
   ]
  },
  {
   "cell_type": "code",
   "execution_count": 0,
   "metadata": {
    "application/vnd.databricks.v1+cell": {
     "cellMetadata": {
      "byteLimit": 2048000,
      "rowLimit": 10000
     },
     "collapsed": true,
     "inputWidgets": {},
     "nuid": "9d6438d7-7722-4e4c-8061-7d5bb81a9eb3",
     "showTitle": false,
     "title": ""
    }
   },
   "outputs": [
    {
     "output_type": "display_data",
     "data": {
      "text/plain": [
       "\u001B[0;31m---------------------------------------------------------------------------\u001B[0m\n",
       "\u001B[0;31mAnalysisException\u001B[0m                         Traceback (most recent call last)\n",
       "File \u001B[0;32m<command-422353836847571>, line 1\u001B[0m\n",
       "\u001B[0;32m----> 1\u001B[0m userDF \u001B[38;5;241m=\u001B[39m \u001B[43mspark\u001B[49m\u001B[38;5;241;43m.\u001B[39;49m\u001B[43mread\u001B[49m\u001B[38;5;241;43m.\u001B[39;49m\u001B[43mformat\u001B[49m\u001B[43m(\u001B[49m\u001B[38;5;124;43m'\u001B[39;49m\u001B[38;5;124;43mparquet\u001B[39;49m\u001B[38;5;124;43m'\u001B[39;49m\u001B[43m)\u001B[49m\u001B[38;5;241;43m.\u001B[39;49m\u001B[43mload\u001B[49m\u001B[43m(\u001B[49m\u001B[38;5;124;43m'\u001B[39;49m\u001B[38;5;124;43m/mnt/ecomdata/users-raw/\u001B[39;49m\u001B[38;5;124;43m'\u001B[39;49m\u001B[43m)\u001B[49m\n",
       "\n",
       "File \u001B[0;32m/databricks/spark/python/pyspark/instrumentation_utils.py:47\u001B[0m, in \u001B[0;36m_wrap_function.<locals>.wrapper\u001B[0;34m(*args, **kwargs)\u001B[0m\n",
       "\u001B[1;32m     45\u001B[0m start \u001B[38;5;241m=\u001B[39m time\u001B[38;5;241m.\u001B[39mperf_counter()\n",
       "\u001B[1;32m     46\u001B[0m \u001B[38;5;28;01mtry\u001B[39;00m:\n",
       "\u001B[0;32m---> 47\u001B[0m     res \u001B[38;5;241m=\u001B[39m \u001B[43mfunc\u001B[49m\u001B[43m(\u001B[49m\u001B[38;5;241;43m*\u001B[39;49m\u001B[43margs\u001B[49m\u001B[43m,\u001B[49m\u001B[43m \u001B[49m\u001B[38;5;241;43m*\u001B[39;49m\u001B[38;5;241;43m*\u001B[39;49m\u001B[43mkwargs\u001B[49m\u001B[43m)\u001B[49m\n",
       "\u001B[1;32m     48\u001B[0m     logger\u001B[38;5;241m.\u001B[39mlog_success(\n",
       "\u001B[1;32m     49\u001B[0m         module_name, class_name, function_name, time\u001B[38;5;241m.\u001B[39mperf_counter() \u001B[38;5;241m-\u001B[39m start, signature\n",
       "\u001B[1;32m     50\u001B[0m     )\n",
       "\u001B[1;32m     51\u001B[0m     \u001B[38;5;28;01mreturn\u001B[39;00m res\n",
       "\n",
       "File \u001B[0;32m/databricks/spark/python/pyspark/sql/readwriter.py:312\u001B[0m, in \u001B[0;36mDataFrameReader.load\u001B[0;34m(self, path, format, schema, **options)\u001B[0m\n",
       "\u001B[1;32m    310\u001B[0m \u001B[38;5;28mself\u001B[39m\u001B[38;5;241m.\u001B[39moptions(\u001B[38;5;241m*\u001B[39m\u001B[38;5;241m*\u001B[39moptions)\n",
       "\u001B[1;32m    311\u001B[0m \u001B[38;5;28;01mif\u001B[39;00m \u001B[38;5;28misinstance\u001B[39m(path, \u001B[38;5;28mstr\u001B[39m):\n",
       "\u001B[0;32m--> 312\u001B[0m     \u001B[38;5;28;01mreturn\u001B[39;00m \u001B[38;5;28mself\u001B[39m\u001B[38;5;241m.\u001B[39m_df(\u001B[38;5;28;43mself\u001B[39;49m\u001B[38;5;241;43m.\u001B[39;49m\u001B[43m_jreader\u001B[49m\u001B[38;5;241;43m.\u001B[39;49m\u001B[43mload\u001B[49m\u001B[43m(\u001B[49m\u001B[43mpath\u001B[49m\u001B[43m)\u001B[49m)\n",
       "\u001B[1;32m    313\u001B[0m \u001B[38;5;28;01melif\u001B[39;00m path \u001B[38;5;129;01mis\u001B[39;00m \u001B[38;5;129;01mnot\u001B[39;00m \u001B[38;5;28;01mNone\u001B[39;00m:\n",
       "\u001B[1;32m    314\u001B[0m     \u001B[38;5;28;01mif\u001B[39;00m \u001B[38;5;28mtype\u001B[39m(path) \u001B[38;5;241m!=\u001B[39m \u001B[38;5;28mlist\u001B[39m:\n",
       "\n",
       "File \u001B[0;32m/databricks/spark/python/lib/py4j-0.10.9.7-src.zip/py4j/java_gateway.py:1355\u001B[0m, in \u001B[0;36mJavaMember.__call__\u001B[0;34m(self, *args)\u001B[0m\n",
       "\u001B[1;32m   1349\u001B[0m command \u001B[38;5;241m=\u001B[39m proto\u001B[38;5;241m.\u001B[39mCALL_COMMAND_NAME \u001B[38;5;241m+\u001B[39m\\\n",
       "\u001B[1;32m   1350\u001B[0m     \u001B[38;5;28mself\u001B[39m\u001B[38;5;241m.\u001B[39mcommand_header \u001B[38;5;241m+\u001B[39m\\\n",
       "\u001B[1;32m   1351\u001B[0m     args_command \u001B[38;5;241m+\u001B[39m\\\n",
       "\u001B[1;32m   1352\u001B[0m     proto\u001B[38;5;241m.\u001B[39mEND_COMMAND_PART\n",
       "\u001B[1;32m   1354\u001B[0m answer \u001B[38;5;241m=\u001B[39m \u001B[38;5;28mself\u001B[39m\u001B[38;5;241m.\u001B[39mgateway_client\u001B[38;5;241m.\u001B[39msend_command(command)\n",
       "\u001B[0;32m-> 1355\u001B[0m return_value \u001B[38;5;241m=\u001B[39m \u001B[43mget_return_value\u001B[49m\u001B[43m(\u001B[49m\n",
       "\u001B[1;32m   1356\u001B[0m \u001B[43m    \u001B[49m\u001B[43manswer\u001B[49m\u001B[43m,\u001B[49m\u001B[43m \u001B[49m\u001B[38;5;28;43mself\u001B[39;49m\u001B[38;5;241;43m.\u001B[39;49m\u001B[43mgateway_client\u001B[49m\u001B[43m,\u001B[49m\u001B[43m \u001B[49m\u001B[38;5;28;43mself\u001B[39;49m\u001B[38;5;241;43m.\u001B[39;49m\u001B[43mtarget_id\u001B[49m\u001B[43m,\u001B[49m\u001B[43m \u001B[49m\u001B[38;5;28;43mself\u001B[39;49m\u001B[38;5;241;43m.\u001B[39;49m\u001B[43mname\u001B[49m\u001B[43m)\u001B[49m\n",
       "\u001B[1;32m   1358\u001B[0m \u001B[38;5;28;01mfor\u001B[39;00m temp_arg \u001B[38;5;129;01min\u001B[39;00m temp_args:\n",
       "\u001B[1;32m   1359\u001B[0m     \u001B[38;5;28;01mif\u001B[39;00m \u001B[38;5;28mhasattr\u001B[39m(temp_arg, \u001B[38;5;124m\"\u001B[39m\u001B[38;5;124m_detach\u001B[39m\u001B[38;5;124m\"\u001B[39m):\n",
       "\n",
       "File \u001B[0;32m/databricks/spark/python/pyspark/errors/exceptions/captured.py:230\u001B[0m, in \u001B[0;36mcapture_sql_exception.<locals>.deco\u001B[0;34m(*a, **kw)\u001B[0m\n",
       "\u001B[1;32m    226\u001B[0m converted \u001B[38;5;241m=\u001B[39m convert_exception(e\u001B[38;5;241m.\u001B[39mjava_exception)\n",
       "\u001B[1;32m    227\u001B[0m \u001B[38;5;28;01mif\u001B[39;00m \u001B[38;5;129;01mnot\u001B[39;00m \u001B[38;5;28misinstance\u001B[39m(converted, UnknownException):\n",
       "\u001B[1;32m    228\u001B[0m     \u001B[38;5;66;03m# Hide where the exception came from that shows a non-Pythonic\u001B[39;00m\n",
       "\u001B[1;32m    229\u001B[0m     \u001B[38;5;66;03m# JVM exception message.\u001B[39;00m\n",
       "\u001B[0;32m--> 230\u001B[0m     \u001B[38;5;28;01mraise\u001B[39;00m converted \u001B[38;5;28;01mfrom\u001B[39;00m \u001B[38;5;28mNone\u001B[39m\n",
       "\u001B[1;32m    231\u001B[0m \u001B[38;5;28;01melse\u001B[39;00m:\n",
       "\u001B[1;32m    232\u001B[0m     \u001B[38;5;28;01mraise\u001B[39;00m\n",
       "\n",
       "\u001B[0;31mAnalysisException\u001B[0m: [UNABLE_TO_INFER_SCHEMA] Unable to infer schema for Parquet. It must be specified manually. SQLSTATE: 42KD9"
      ]
     },
     "metadata": {
      "application/vnd.databricks.v1+output": {
       "addedWidgets": {},
       "arguments": {},
       "datasetInfos": [],
       "jupyterProps": {
        "ename": "AnalysisException",
        "evalue": "[UNABLE_TO_INFER_SCHEMA] Unable to infer schema for Parquet. It must be specified manually. SQLSTATE: 42KD9"
       },
       "metadata": {
        "errorSummary": "[UNABLE_TO_INFER_SCHEMA] Unable to infer schema for Parquet. It must be specified manually. SQLSTATE: 42KD9"
       },
       "removedWidgets": [],
       "sqlProps": {
        "errorClass": "UNABLE_TO_INFER_SCHEMA",
        "pysparkCallSite": null,
        "pysparkFragment": null,
        "sqlState": "42KD9",
        "startIndex": null,
        "stopIndex": null
       },
       "stackFrames": [
        "\u001B[0;31m---------------------------------------------------------------------------\u001B[0m",
        "\u001B[0;31mAnalysisException\u001B[0m                         Traceback (most recent call last)",
        "File \u001B[0;32m<command-422353836847571>, line 1\u001B[0m\n\u001B[0;32m----> 1\u001B[0m userDF \u001B[38;5;241m=\u001B[39m \u001B[43mspark\u001B[49m\u001B[38;5;241;43m.\u001B[39;49m\u001B[43mread\u001B[49m\u001B[38;5;241;43m.\u001B[39;49m\u001B[43mformat\u001B[49m\u001B[43m(\u001B[49m\u001B[38;5;124;43m'\u001B[39;49m\u001B[38;5;124;43mparquet\u001B[39;49m\u001B[38;5;124;43m'\u001B[39;49m\u001B[43m)\u001B[49m\u001B[38;5;241;43m.\u001B[39;49m\u001B[43mload\u001B[49m\u001B[43m(\u001B[49m\u001B[38;5;124;43m'\u001B[39;49m\u001B[38;5;124;43m/mnt/ecomdata/users-raw/\u001B[39;49m\u001B[38;5;124;43m'\u001B[39;49m\u001B[43m)\u001B[49m\n",
        "File \u001B[0;32m/databricks/spark/python/pyspark/instrumentation_utils.py:47\u001B[0m, in \u001B[0;36m_wrap_function.<locals>.wrapper\u001B[0;34m(*args, **kwargs)\u001B[0m\n\u001B[1;32m     45\u001B[0m start \u001B[38;5;241m=\u001B[39m time\u001B[38;5;241m.\u001B[39mperf_counter()\n\u001B[1;32m     46\u001B[0m \u001B[38;5;28;01mtry\u001B[39;00m:\n\u001B[0;32m---> 47\u001B[0m     res \u001B[38;5;241m=\u001B[39m \u001B[43mfunc\u001B[49m\u001B[43m(\u001B[49m\u001B[38;5;241;43m*\u001B[39;49m\u001B[43margs\u001B[49m\u001B[43m,\u001B[49m\u001B[43m \u001B[49m\u001B[38;5;241;43m*\u001B[39;49m\u001B[38;5;241;43m*\u001B[39;49m\u001B[43mkwargs\u001B[49m\u001B[43m)\u001B[49m\n\u001B[1;32m     48\u001B[0m     logger\u001B[38;5;241m.\u001B[39mlog_success(\n\u001B[1;32m     49\u001B[0m         module_name, class_name, function_name, time\u001B[38;5;241m.\u001B[39mperf_counter() \u001B[38;5;241m-\u001B[39m start, signature\n\u001B[1;32m     50\u001B[0m     )\n\u001B[1;32m     51\u001B[0m     \u001B[38;5;28;01mreturn\u001B[39;00m res\n",
        "File \u001B[0;32m/databricks/spark/python/pyspark/sql/readwriter.py:312\u001B[0m, in \u001B[0;36mDataFrameReader.load\u001B[0;34m(self, path, format, schema, **options)\u001B[0m\n\u001B[1;32m    310\u001B[0m \u001B[38;5;28mself\u001B[39m\u001B[38;5;241m.\u001B[39moptions(\u001B[38;5;241m*\u001B[39m\u001B[38;5;241m*\u001B[39moptions)\n\u001B[1;32m    311\u001B[0m \u001B[38;5;28;01mif\u001B[39;00m \u001B[38;5;28misinstance\u001B[39m(path, \u001B[38;5;28mstr\u001B[39m):\n\u001B[0;32m--> 312\u001B[0m     \u001B[38;5;28;01mreturn\u001B[39;00m \u001B[38;5;28mself\u001B[39m\u001B[38;5;241m.\u001B[39m_df(\u001B[38;5;28;43mself\u001B[39;49m\u001B[38;5;241;43m.\u001B[39;49m\u001B[43m_jreader\u001B[49m\u001B[38;5;241;43m.\u001B[39;49m\u001B[43mload\u001B[49m\u001B[43m(\u001B[49m\u001B[43mpath\u001B[49m\u001B[43m)\u001B[49m)\n\u001B[1;32m    313\u001B[0m \u001B[38;5;28;01melif\u001B[39;00m path \u001B[38;5;129;01mis\u001B[39;00m \u001B[38;5;129;01mnot\u001B[39;00m \u001B[38;5;28;01mNone\u001B[39;00m:\n\u001B[1;32m    314\u001B[0m     \u001B[38;5;28;01mif\u001B[39;00m \u001B[38;5;28mtype\u001B[39m(path) \u001B[38;5;241m!=\u001B[39m \u001B[38;5;28mlist\u001B[39m:\n",
        "File \u001B[0;32m/databricks/spark/python/lib/py4j-0.10.9.7-src.zip/py4j/java_gateway.py:1355\u001B[0m, in \u001B[0;36mJavaMember.__call__\u001B[0;34m(self, *args)\u001B[0m\n\u001B[1;32m   1349\u001B[0m command \u001B[38;5;241m=\u001B[39m proto\u001B[38;5;241m.\u001B[39mCALL_COMMAND_NAME \u001B[38;5;241m+\u001B[39m\\\n\u001B[1;32m   1350\u001B[0m     \u001B[38;5;28mself\u001B[39m\u001B[38;5;241m.\u001B[39mcommand_header \u001B[38;5;241m+\u001B[39m\\\n\u001B[1;32m   1351\u001B[0m     args_command \u001B[38;5;241m+\u001B[39m\\\n\u001B[1;32m   1352\u001B[0m     proto\u001B[38;5;241m.\u001B[39mEND_COMMAND_PART\n\u001B[1;32m   1354\u001B[0m answer \u001B[38;5;241m=\u001B[39m \u001B[38;5;28mself\u001B[39m\u001B[38;5;241m.\u001B[39mgateway_client\u001B[38;5;241m.\u001B[39msend_command(command)\n\u001B[0;32m-> 1355\u001B[0m return_value \u001B[38;5;241m=\u001B[39m \u001B[43mget_return_value\u001B[49m\u001B[43m(\u001B[49m\n\u001B[1;32m   1356\u001B[0m \u001B[43m    \u001B[49m\u001B[43manswer\u001B[49m\u001B[43m,\u001B[49m\u001B[43m \u001B[49m\u001B[38;5;28;43mself\u001B[39;49m\u001B[38;5;241;43m.\u001B[39;49m\u001B[43mgateway_client\u001B[49m\u001B[43m,\u001B[49m\u001B[43m \u001B[49m\u001B[38;5;28;43mself\u001B[39;49m\u001B[38;5;241;43m.\u001B[39;49m\u001B[43mtarget_id\u001B[49m\u001B[43m,\u001B[49m\u001B[43m \u001B[49m\u001B[38;5;28;43mself\u001B[39;49m\u001B[38;5;241;43m.\u001B[39;49m\u001B[43mname\u001B[49m\u001B[43m)\u001B[49m\n\u001B[1;32m   1358\u001B[0m \u001B[38;5;28;01mfor\u001B[39;00m temp_arg \u001B[38;5;129;01min\u001B[39;00m temp_args:\n\u001B[1;32m   1359\u001B[0m     \u001B[38;5;28;01mif\u001B[39;00m \u001B[38;5;28mhasattr\u001B[39m(temp_arg, \u001B[38;5;124m\"\u001B[39m\u001B[38;5;124m_detach\u001B[39m\u001B[38;5;124m\"\u001B[39m):\n",
        "File \u001B[0;32m/databricks/spark/python/pyspark/errors/exceptions/captured.py:230\u001B[0m, in \u001B[0;36mcapture_sql_exception.<locals>.deco\u001B[0;34m(*a, **kw)\u001B[0m\n\u001B[1;32m    226\u001B[0m converted \u001B[38;5;241m=\u001B[39m convert_exception(e\u001B[38;5;241m.\u001B[39mjava_exception)\n\u001B[1;32m    227\u001B[0m \u001B[38;5;28;01mif\u001B[39;00m \u001B[38;5;129;01mnot\u001B[39;00m \u001B[38;5;28misinstance\u001B[39m(converted, UnknownException):\n\u001B[1;32m    228\u001B[0m     \u001B[38;5;66;03m# Hide where the exception came from that shows a non-Pythonic\u001B[39;00m\n\u001B[1;32m    229\u001B[0m     \u001B[38;5;66;03m# JVM exception message.\u001B[39;00m\n\u001B[0;32m--> 230\u001B[0m     \u001B[38;5;28;01mraise\u001B[39;00m converted \u001B[38;5;28;01mfrom\u001B[39;00m \u001B[38;5;28mNone\u001B[39m\n\u001B[1;32m    231\u001B[0m \u001B[38;5;28;01melse\u001B[39;00m:\n\u001B[1;32m    232\u001B[0m     \u001B[38;5;28;01mraise\u001B[39;00m\n",
        "\u001B[0;31mAnalysisException\u001B[0m: [UNABLE_TO_INFER_SCHEMA] Unable to infer schema for Parquet. It must be specified manually. SQLSTATE: 42KD9"
       ],
       "type": "baseError"
      }
     },
     "output_type": "display_data"
    }
   ],
   "source": [
    "userDF = spark.read.format('parquet').load('/mnt/ecomdata/users-raw/')"
   ]
  },
  {
   "cell_type": "code",
   "execution_count": 0,
   "metadata": {
    "application/vnd.databricks.v1+cell": {
     "cellMetadata": {
      "byteLimit": 2048000,
      "rowLimit": 10000
     },
     "inputWidgets": {},
     "nuid": "866df0f2-4e1b-4725-ae0f-05d6c9e85146",
     "showTitle": false,
     "title": ""
    }
   },
   "outputs": [
    {
     "output_type": "stream",
     "name": "stdout",
     "output_type": "stream",
     "text": [
      "+--------------------+----+-----------+--------+-----------------+---------------+-------------------+--------------+------------+----------------+--------------+--------------+------+----------------+-------------+---------+-------------+---------+-----------------+------------------+---------+-----------------+----------------+-----------+\n|      identifierHash|type|    country|language|socialNbFollowers|socialNbFollows|socialProductsLiked|productsListed|productsSold|productsPassRate|productsWished|productsBought|gender|civilityGenderId|civilityTitle|hasAnyApp|hasAndroidApp|hasIosApp|hasProfilePicture|daysSinceLastLogin|seniority|seniorityAsMonths|seniorityAsYears|countryCode|\n+--------------------+----+-----------+--------+-----------------+---------------+-------------------+--------------+------------+----------------+--------------+--------------+------+----------------+-------------+---------+-------------+---------+-----------------+------------------+---------+-----------------+----------------+-----------+\n|-7279641312655250028|user| Etats-Unis|      en|                3|              8|                  0|             0|           0|             0.0|             0|             0|     F|               2|          mrs|    False|        False|    False|             True|               709|     3205|           106.83|             8.9|         us|\n|-1456013578740053406|user|  Allemagne|      de|                3|              8|                  0|             0|           0|             0.0|             0|             0|     F|               2|          mrs|    False|        False|    False|             True|               709|     3205|           106.83|             8.9|         de|\n| 9006282053848196165|user|      Suède|      en|                3|              8|                  0|             0|           0|             0.0|             0|             0|     M|               1|           mr|     True|        False|     True|             True|               689|     3205|           106.83|             8.9|         se|\n|-7154634866120535654|user|    Turquie|      en|                3|              8|                  0|             0|           0|             0.0|             0|             0|     F|               2|          mrs|    False|        False|    False|             True|               709|     3205|           106.83|             8.9|         tr|\n| 2858299215060733023|user|     France|      en|                3|              8|                  0|             0|           0|             0.0|             0|             0|     M|               1|           mr|     True|        False|     True|             True|               709|     3205|           106.83|             8.9|         fr|\n|-8370972521561479983|user|Royaume-Uni|      en|                3|              8|                  0|             0|           0|             0.0|             0|             0|     F|               2|          mrs|    False|        False|    False|             True|               709|     3205|           106.83|             8.9|         gb|\n|-7877915015908472168|user|Royaume-Uni|      en|                3|              8|                  4|             0|           0|             0.0|             0|             0|     F|               2|          mrs|    False|        False|    False|             True|               591|     3205|           106.83|             8.9|         gb|\n| 7455841332634807036|user|     Italie|      fr|                3|              8|                  0|             0|           0|             0.0|             0|             0|     F|               2|          mrs|     True|         True|    False|             True|               709|     3205|           106.83|             8.9|         it|\n| 4607255007288453096|user|     Italie|      fr|                3|              8|                  0|             0|           0|             0.0|             0|             0|     F|               2|          mrs|     True|         True|    False|             True|               701|     3205|           106.83|             8.9|         it|\n|-7302797141205914253|user|     France|      en|                3|              8|                  0|             0|           0|             0.0|             0|             0|     M|               1|           mr|     True|        False|     True|             True|               703|     3205|           106.83|             8.9|         fr|\n|-6727673442828273069|user| Etats-Unis|      en|                3|              8|                  0|             0|           0|             0.0|             0|             0|     F|               2|          mrs|    False|        False|    False|             True|               709|     3205|           106.83|             8.9|         us|\n|-3703523845250928186|user|    Espagne|      es|                3|              8|                  0|             0|           0|             0.0|             0|             0|     F|               2|          mrs|    False|        False|    False|             True|               709|     3205|           106.83|             8.9|         es|\n| 2543719509187236735|user| Etats-Unis|      en|                3|              8|                  0|             0|           0|             0.0|             0|             0|     F|               2|          mrs|    False|        False|    False|             True|               709|     3205|           106.83|             8.9|         us|\n|-4116451590548020613|user|Royaume-Uni|      en|                3|              8|                  0|             0|           0|             0.0|             0|             0|     F|               2|          mrs|    False|        False|    False|             True|               709|     3205|           106.83|             8.9|         gb|\n| 6412144644819322909|user| Etats-Unis|      en|                3|              8|                  0|             0|           0|             0.0|             0|             0|     F|               2|          mrs|    False|        False|    False|             True|               709|     3205|           106.83|             8.9|         us|\n| -531871068406637242|user|    Espagne|      es|                3|              8|                  0|             0|           0|             0.0|             0|             0|     F|               2|          mrs|    False|        False|    False|             True|               709|     3205|           106.83|             8.9|         es|\n| 6359422170336773354|user| Etats-Unis|      en|                3|              8|                  0|             0|           0|             0.0|             0|             0|     F|               2|          mrs|    False|        False|    False|             True|               558|     3205|           106.83|             8.9|         us|\n|-8231936648814680895|user|   Danemark|      en|                3|              8|                370|             0|           0|             0.0|             1|             0|     F|               2|          mrs|    False|        False|    False|             True|                42|     3205|           106.83|             8.9|         dk|\n| 5663923945758514393|user| Etats-Unis|      en|                3|              8|                  1|             0|           0|             0.0|             0|             0|     F|               2|          mrs|    False|        False|    False|             True|                32|     3205|           106.83|             8.9|         us|\n|-9170487442747331639|user|     France|      fr|                3|              8|                  0|             0|           0|             0.0|             0|             0|     M|               1|           mr|    False|        False|    False|             True|               276|     3205|           106.83|             8.9|         fr|\n+--------------------+----+-----------+--------+-----------------+---------------+-------------------+--------------+------------+----------------+--------------+--------------+------+----------------+-------------+---------+-------------+---------+-----------------+------------------+---------+-----------------+----------------+-----------+\nonly showing top 20 rows\n\n"
     ]
    }
   ],
   "source": [
    "userDF.show()"
   ]
  },
  {
   "cell_type": "code",
   "execution_count": 0,
   "metadata": {
    "application/vnd.databricks.v1+cell": {
     "cellMetadata": {
      "byteLimit": 2048000,
      "rowLimit": 10000
     },
     "inputWidgets": {},
     "nuid": "eaeded47-cee9-422d-bd12-7de49a886fca",
     "showTitle": false,
     "title": ""
    }
   },
   "outputs": [],
   "source": [
    "userDF.write.format('delta')\\\n",
    "    .mode('overwrite')\\\n",
    "    .save('/mnt/delta/tables/bronze/users')"
   ]
  },
  {
   "cell_type": "code",
   "execution_count": 0,
   "metadata": {
    "application/vnd.databricks.v1+cell": {
     "cellMetadata": {
      "byteLimit": 2048000,
      "rowLimit": 10000
     },
     "inputWidgets": {},
     "nuid": "6a7f5353-7314-434c-93bb-06d524309480",
     "showTitle": false,
     "title": ""
    }
   },
   "outputs": [],
   "source": [
    "buyersDF = spark.read.format('parquet').option('header', 'true').option('inferSchema', 'true').load('/mnt/ecomdata/buyers-raw/')"
   ]
  },
  {
   "cell_type": "code",
   "execution_count": 0,
   "metadata": {
    "application/vnd.databricks.v1+cell": {
     "cellMetadata": {
      "byteLimit": 2048000,
      "rowLimit": 10000
     },
     "inputWidgets": {},
     "nuid": "af587f2e-7807-4574-b8a5-2546dd038545",
     "showTitle": false,
     "title": ""
    }
   },
   "outputs": [
    {
     "output_type": "stream",
     "name": "stdout",
     "output_type": "stream",
     "text": [
      "+-----------+------+---------+-------------+------------+----------+---------------+-------------+-----------------+--------------------+----------------------+------------------+-------------------------+---------------------+-------------------+-------------------+------------------+----------------------+----------------------+---------------------+------------------+------------------+-----------------+---------------------+---------------------+--------------------+---------------+------------------+-------------+-------------+----------------+----------------+\n|    country|buyers|topbuyers|topbuyerratio|femalebuyers|malebuyers|topfemalebuyers|topmalebuyers|femalebuyersratio|topfemalebuyersratio|boughtperwishlistratio|boughtperlikeratio|topboughtperwishlistratio|topboughtperlikeratio|totalproductsbought|totalproductswished|totalproductsliked|toptotalproductsbought|toptotalproductswished|toptotalproductsliked|meanproductsbought|meanproductswished|meanproductsliked|topmeanproductsbought|topmeanproductswished|topmeanproductsliked|meanofflinedays|topmeanofflinedays|meanfollowers|meanfollowing|topmeanfollowers|topmeanfollowing|\n+-----------+------+---------+-------------+------------+----------+---------------+-------------+-----------------+--------------------+----------------------+------------------+-------------------------+---------------------+-------------------+-------------------+------------------+----------------------+----------------------+---------------------+------------------+------------------+-----------------+---------------------+---------------------+--------------------+---------------+------------------+-------------+-------------+----------------+----------------+\n|     France|  1251|       53|          4.2|         851|       400|             33|           20|             68.0|                62.3|                 26.08|             14.15|                    36.37|                23.21|               3573|              13700|             25249|                  1487|                  4089|                 6406|               2.9|              11.0|             20.2|                 28.1|                 77.2|               120.9|          321.8|              75.0|          4.8|          8.8|            10.1|            11.0|\n|Royaume-Uni|   792|       38|          4.8|         560|       232|             30|            8|             70.7|                78.9|                 14.97|               9.3|                    13.93|                11.59|               2174|              14524|             23378|                   853|                  6124|                 7362|               2.7|              18.3|             29.5|                 22.4|                161.2|               193.7|          298.3|              68.2|          5.4|          8.8|            11.1|            12.2|\n| Etats-Unis|   912|       31|          3.4|         700|       212|             21|           10|             76.8|                67.7|                 21.84|              7.92|                    23.35|                12.44|               2370|              10852|             29917|                   864|                  3701|                 6946|               2.6|              11.9|             32.8|                 27.9|                119.4|               224.1|          359.3|              73.0|          4.9|          9.7|            11.7|            27.9|\n|  Allemagne|   578|       29|          5.0|         409|       169|             21|            8|             70.8|                72.4|                 13.91|              6.88|                    10.13|                 4.85|               1635|              11758|             23761|                   516|                  5096|                10648|               2.8|              20.3|             41.1|                 17.8|                175.7|               367.2|          296.6|              39.3|          5.1|          8.6|            11.2|            11.3|\n|     Italie|   400|       21|          5.3|         283|       117|             14|            7|             70.8|                66.7|                 12.56|               8.6|                    11.86|                23.91|               1221|               9720|             14200|                   519|                  4376|                 2171|               3.1|              24.3|             35.5|                 24.7|                208.4|               103.4|          247.9|              40.9|          6.4|         11.6|            14.3|            15.4|\n|    Espagne|   255|       21|          8.2|         189|        66|             18|            3|             74.1|                85.7|                 12.98|               6.2|                    11.94|                 6.21|               1028|               7918|             16579|                   558|                  4673|                 8984|               4.0|              31.1|             65.0|                 26.6|                222.5|               427.8|          271.1|              39.4|          7.0|          9.5|            17.6|            11.6|\n|   Pays-Bas|   144|       15|         10.4|         118|        26|             10|            5|             81.9|                66.7|                 19.69|              8.73|                    27.21|                11.81|                537|               2727|              6154|                   295|                  1084|                 2498|               3.7|              18.9|             42.7|                 19.7|                 72.3|               166.5|          191.6|              14.3|          6.3|          9.0|            17.7|            10.5|\n|      Suède|   151|       11|          7.3|         113|        38|              7|            4|             74.8|                63.6|                 11.35|              5.52|                    12.57|                 5.02|                566|               4987|             10256|                   234|                  1862|                 4658|               3.7|              33.0|             67.9|                 21.3|                169.3|               423.5|          189.1|              86.0|          7.4|          9.1|            20.2|             9.5|\n|   Finlande|    64|       10|         15.6|          53|        11|              9|            1|             82.8|                90.0|                 35.33|              9.29|                    42.23|                24.26|                331|                937|              3562|                   212|                   502|                  874|               5.2|              14.6|             55.7|                 21.2|                 50.2|                87.4|          184.9|             121.1|          6.7|          9.2|            10.3|            12.5|\n|   Danemark|   157|        9|          5.7|         127|        30|              9|            0|             80.9|               100.0|                 12.89|              1.66|                     6.85|                 4.03|                438|               3399|             26413|                   141|                  2059|                 3499|               2.8|              21.6|            168.2|                 15.7|                228.8|               388.8|          156.0|              19.3|          5.6|          8.6|            11.7|             9.7|\n|  Australie|   126|        9|          7.1|          92|        34|              8|            1|             73.0|                88.9|                 27.75|              5.17|                    39.66|                 4.83|                398|               1434|              7692|                   184|                   464|                 3812|               3.2|              11.4|             61.0|                 20.4|                 51.6|               423.6|          273.7|             102.4|          6.3|          8.9|            11.6|            10.6|\n|   Belgique|    90|        7|          7.8|          73|        17|              7|            0|             81.1|               100.0|                 23.67|             37.47|                    23.82|               439.06|                718|               3033|              1916|                   562|                  2359|                  128|               8.0|              33.7|             21.3|                 80.3|                337.0|                18.3|          220.9|              16.0|          5.5|          8.5|             8.7|             8.4|\n|   Autriche|    49|        6|         12.2|          40|         9|              5|            1|             81.6|                83.3|                 14.14|              8.37|                    16.84|                 9.53|                242|               1712|              2893|                   144|                   855|                 1511|               4.9|              34.9|             59.0|                 24.0|                142.5|               251.8|          295.7|              19.7|          6.0|          8.8|             9.7|            10.0|\n|   Bulgarie|     9|        4|         44.4|           7|         2|              3|            1|             77.8|                75.0|                  3.29|             14.26|                      3.0|                13.84|                 95|               2891|               666|                    84|                  2803|                  607|              10.6|             321.2|             74.0|                 21.0|                700.8|               151.8|           82.2|              37.0|         20.8|         32.7|            39.5|            62.8|\n|     Canada|    65|        3|          4.6|          45|        20|              3|            0|             69.2|               100.0|                  8.51|              2.89|                    40.94|                 13.1|                155|               1822|              5367|                    52|                   127|                  397|               2.4|              28.0|             82.6|                 17.3|                 42.3|               132.3|          325.6|              51.0|          6.1|          8.6|            16.3|            12.0|\n|   Roumanie|    28|        3|         10.7|          22|         6|              2|            1|             78.6|                66.7|                 14.22|              6.84|                    15.19|                 7.44|                162|               1139|              2369|                    94|                   619|                 1263|               5.8|              40.7|             84.6|                 31.3|                206.3|               421.0|          122.1|              16.3|          6.0|          8.4|            12.3|             8.0|\n|  Hong Kong|    28|        3|         10.7|          22|         6|              2|            1|             78.6|                66.7|                  6.75|              1.61|                     9.21|                 1.06|                112|               1660|              6960|                    64|                   695|                 6063|               4.0|              59.3|            248.6|                 21.3|                231.7|              2021.0|          157.5|              68.3|          9.4|         12.4|            14.3|            11.0|\n| Luxembourg|    13|        3|         23.1|          10|         3|              3|            0|             76.9|               100.0|                 32.73|             35.14|                    30.94|                46.04|                162|                495|               461|                   151|                   488|                  328|              12.5|              38.1|             35.5|                 50.3|                162.7|               109.3|          229.4|              11.3|          9.6|          8.3|            26.0|             8.7|\n|   Portugal|    18|        2|         11.1|          12|         6|              1|            1|             66.7|                50.0|                  1.83|              3.42|                    18.07|                 4.48|                 72|               3931|              2108|                    30|                   166|                  670|               4.0|             218.4|            117.1|                 15.0|                 83.0|               335.0|          159.9|              11.0|          9.2|         15.8|            21.0|            11.5|\n|      Chine|    13|        2|         15.4|           9|         4|              2|            0|             69.2|               100.0|                292.11|             18.78|                   1300.0|                20.68|                111|                 38|               591|                    91|                     7|                  440|               8.5|               2.9|             45.5|                 45.5|                  3.5|               220.0|          315.9|             189.0|          4.7|          8.5|             6.0|            10.0|\n+-----------+------+---------+-------------+------------+----------+---------------+-------------+-----------------+--------------------+----------------------+------------------+-------------------------+---------------------+-------------------+-------------------+------------------+----------------------+----------------------+---------------------+------------------+------------------+-----------------+---------------------+---------------------+--------------------+---------------+------------------+-------------+-------------+----------------+----------------+\nonly showing top 20 rows\n\n"
     ]
    }
   ],
   "source": [
    "buyersDF.show()"
   ]
  },
  {
   "cell_type": "code",
   "execution_count": 0,
   "metadata": {
    "application/vnd.databricks.v1+cell": {
     "cellMetadata": {
      "byteLimit": 2048000,
      "rowLimit": 10000
     },
     "inputWidgets": {},
     "nuid": "dada0c59-8bbb-46f1-9344-c3785a3b37e9",
     "showTitle": false,
     "title": ""
    }
   },
   "outputs": [],
   "source": [
    "buyersDF.write.format('delta')\\\n",
    "    .mode('overwrite')\\\n",
    "    .save('/mnt/delta/tables/bronze/buyers')"
   ]
  },
  {
   "cell_type": "code",
   "execution_count": 0,
   "metadata": {
    "application/vnd.databricks.v1+cell": {
     "cellMetadata": {
      "byteLimit": 2048000,
      "rowLimit": 10000
     },
     "inputWidgets": {},
     "nuid": "fa3d34fa-b70c-493d-8daa-cf3c18e7b294",
     "showTitle": false,
     "title": ""
    }
   },
   "outputs": [],
   "source": [
    "sellersDF = spark.read.format('parquet').option('header', 'true').option('inferSchema', 'true').load('/mnt/ecomdata/sellers-raw/')"
   ]
  },
  {
   "cell_type": "code",
   "execution_count": 0,
   "metadata": {
    "application/vnd.databricks.v1+cell": {
     "cellMetadata": {
      "byteLimit": 2048000,
      "rowLimit": 10000
     },
     "inputWidgets": {},
     "nuid": "d2a9ba1e-2b83-4db0-a057-41b293ec02a1",
     "showTitle": false,
     "title": ""
    }
   },
   "outputs": [
    {
     "output_type": "stream",
     "name": "stdout",
     "output_type": "stream",
     "text": [
      "+---------+------+---------+----------------+------------------+------------------+-----------------+-------------------+------------------+------------------+-----------------+-----------+-----------+------------------+-------------+-----------+-----------------+-----------------+------------------+\n|  country|   sex|nbsellers|meanproductssold|meanproductslisted|meansellerpassrate|totalproductssold|totalproductslisted|meanproductsbought|meanproductswished|meanproductsliked|totalbought|totalwished|totalproductsliked|meanfollowers|meanfollows|percentofappusers|percentofiosusers|     meanseniority|\n+---------+------+---------+----------------+------------------+------------------+-----------------+-------------------+------------------+------------------+-----------------+-----------+-----------+------------------+-------------+-----------+-----------------+-----------------+------------------+\n|Allemagne|Female|      116|            4.03|              2.72|             27.33|              468|                315|              3.05|             34.66|            35.28|        354|       4021|              4092|          9.5|        8.9|             54.0|             49.0|3060.3362068965516|\n|Allemagne|  Male|       34|             2.0|               1.0|             19.15|               68|                 34|              1.62|              3.38|            31.79|         55|        115|              1081|          7.8|        8.4|             79.0|             64.0|3089.0588235294117|\n|  Arménie|Female|        1|             0.0|              25.0|               0.0|                0|                 25|               0.0|               0.0|              1.0|          0|          0|                 1|          4.0|        8.0|             NULL|             NULL|            3201.0|\n|Australie|Female|       18|            0.94|              1.33|             10.44|               17|                 24|              6.11|             17.72|           209.28|        110|        319|              3767|          7.5|        9.3|             55.0|             55.0|3103.6666666666665|\n|Australie|  Male|        3|             6.0|               4.0|             33.33|               18|                 12|               8.0|              24.0|            38.33|         24|         72|               115|         12.7|        8.3|             66.0|             66.0|3085.6666666666665|\n| Autriche|Female|       18|            3.28|               2.5|             38.67|               59|                 45|              3.39|             31.94|             33.0|         61|        575|               594|          6.9|        8.4|             61.0|             50.0| 3048.222222222222|\n| Autriche|  Male|        5|             1.6|               0.2|              35.0|                8|                  1|               0.8|               5.0|              0.8|          4|         25|                 4|          6.2|        8.0|             60.0|             60.0|            3133.0|\n|  Bahamas|Female|        1|             1.0|               0.0|               0.0|                1|                  0|               0.0|               0.0|              0.0|          0|          0|                 0|          4.0|        8.0|             NULL|             NULL|            2857.0|\n| Belgique|Female|       37|            2.41|              1.89|             29.59|               89|                 70|             12.03|             57.24|            20.11|        445|       2118|               744|          8.3|        8.5|             62.0|             48.0|3041.0810810810813|\n| Belgique|  Male|        8|            3.13|              1.75|             26.13|               25|                 14|              0.63|              1.13|             1.25|          5|          9|                10|          8.4|        9.3|             62.0|             37.0|          3069.625|\n| Bulgarie|Female|        7|           22.29|             11.71|             71.71|              156|                 82|              4.86|            124.43|           120.29|         34|        871|               842|         29.1|       14.4|             71.0|             57.0|3150.1428571428573|\n| Bulgarie|  Male|        3|            4.67|              0.33|              54.0|               14|                  1|              14.0|            633.67|             11.0|         42|       1901|                33|         19.7|       63.7|            100.0|            100.0|3082.6666666666665|\n|   Canada|Female|        3|            2.33|              0.33|              25.0|                7|                  1|               0.0|              1.33|             6.33|          0|          4|                19|          5.7|        8.7|             33.0|             33.0|3085.6666666666665|\n|    Chine|Female|        3|            0.67|               1.0|             33.33|                2|                  3|             24.67|              1.67|           133.33|         74|          5|               400|         11.3|        9.7|             66.0|             66.0|3085.3333333333335|\n|   Chypre|Female|        5|            11.2|              16.4|              55.4|               56|                 82|               0.0|               4.2|             99.0|          0|         21|               495|         19.2|       10.0|             60.0|             40.0|            3130.6|\n|   Chypre|  Male|        1|             0.0|               1.0|               0.0|                0|                  1|               0.0|               0.0|             49.0|          0|          0|                49|          8.0|        8.0|            100.0|            100.0|            3199.0|\n|  Croatie|Female|       10|            10.7|               6.9|              32.6|              107|                 69|               0.8|               4.7|             21.4|          8|         47|               214|         15.1|        8.8|             60.0|             40.0|            3061.7|\n| Danemark|Female|       22|            1.64|               1.0|               6.5|               36|                 22|               3.5|             90.32|           175.41|         77|       1987|              3859|          8.9|        9.5|             59.0|             59.0| 3043.909090909091|\n| Danemark|  Male|        6|            2.33|              1.17|             40.17|               14|                  7|              1.33|              3.17|            18.83|          8|         19|               113|          6.0|        8.0|             66.0|             66.0|3141.8333333333335|\n|  Espagne|Female|      133|            5.91|              3.86|             29.52|              786|                514|              2.98|             37.66|            104.8|        397|       5009|             13938|         13.7|       14.1|             66.0|             49.0| 3075.533834586466|\n+---------+------+---------+----------------+------------------+------------------+-----------------+-------------------+------------------+------------------+-----------------+-----------+-----------+------------------+-------------+-----------+-----------------+-----------------+------------------+\nonly showing top 20 rows\n\n"
     ]
    }
   ],
   "source": [
    "sellersDF.show()"
   ]
  },
  {
   "cell_type": "code",
   "execution_count": 0,
   "metadata": {
    "application/vnd.databricks.v1+cell": {
     "cellMetadata": {
      "byteLimit": 2048000,
      "rowLimit": 10000
     },
     "inputWidgets": {},
     "nuid": "ff5692ec-e88d-4b88-a4ff-d2caf0085d01",
     "showTitle": false,
     "title": ""
    }
   },
   "outputs": [],
   "source": [
    "sellersDF.write.format('delta')\\\n",
    "    .mode('overwrite')\\\n",
    "    .save('/mnt/delta/tables/bronze/sellers')"
   ]
  },
  {
   "cell_type": "code",
   "execution_count": 0,
   "metadata": {
    "application/vnd.databricks.v1+cell": {
     "cellMetadata": {
      "byteLimit": 2048000,
      "rowLimit": 10000
     },
     "inputWidgets": {},
     "nuid": "4a02aae4-e091-49a5-8a4c-1b339b768d19",
     "showTitle": false,
     "title": ""
    }
   },
   "outputs": [],
   "source": [
    "countriesDF = spark.read.format('parquet').option('header', 'true').option('inferSchema', 'true').load('/mnt/ecomdata/countries-raw/')"
   ]
  },
  {
   "cell_type": "code",
   "execution_count": 0,
   "metadata": {
    "application/vnd.databricks.v1+cell": {
     "cellMetadata": {
      "byteLimit": 2048000,
      "rowLimit": 10000
     },
     "inputWidgets": {},
     "nuid": "f13182a0-8673-4bdc-88a1-0a4fdd090d8c",
     "showTitle": false,
     "title": ""
    }
   },
   "outputs": [
    {
     "output_type": "stream",
     "name": "stdout",
     "output_type": "stream",
     "text": [
      "+-----------+-------+----------+--------------+------------------+---------------------+-------------+-----------+----------------+--------------+----------------+-------------+--------------------+-----------------+----------------------+-------------------+--------------------+---------------------+--------------------+--------------------+---------------+------------------+-------------+-------------+----------------+----------------+\n|    country|sellers|topsellers|topsellerratio|femalesellersratio|topfemalesellersratio|femalesellers|malesellers|topfemalesellers|topmalesellers|countrysoldratio|bestsoldratio|toptotalproductssold|totalproductssold|toptotalproductslisted|totalproductslisted| topmeanproductssold|topmeanproductslisted|    meanproductssold|  meanproductslisted|meanofflinedays|topmeanofflinedays|meanfollowers|meanfollowing|topmeanfollowers|topmeanfollowing|\n+-----------+-------+----------+--------------+------------------+---------------------+-------------+-----------+----------------+--------------+----------------+-------------+--------------------+-----------------+----------------------+-------------------+--------------------+---------------------+--------------------+--------------------+---------------+------------------+-------------+-------------+----------------+----------------+\n|     Taiwan|      1|         1|         100.0|             100.0|                100.0|            1|          0|               1|             0|            1.02|         1.02|                  57|               57|                    56|                 56|                57.0|                 56.0|                57.0|                56.0|           11.0|              11.0|         83.0|          8.0|            83.0|             8.0|\n|  Slovaquie|      2|         1|          50.0|               0.0|                  0.0|            0|          2|               0|             1|             2.0|         1.93|                  27|               28|                    14|                 14|                27.0|                 14.0|                14.0|                 7.0|           17.0|              15.0|         10.5|          8.5|            15.0|             8.0|\n|   Lettonie|      4|         2|          50.0|             100.0|                100.0|            4|          0|               2|             0|            2.31|         2.25|                  81|               83|                    36|                 36|                40.5|                 18.0|               20.75|                 9.0|          120.3|              11.5|         21.0|         52.3|            38.0|            98.5|\n|   Bulgarie|      9|         4|          44.4|              66.7|                100.0|            6|          3|               4|             0|            2.07|          2.1|                 145|              170|                    69|                 82|               36.25|                17.25|18.88888888888888...|9.111111111111111...|           98.3|              19.0|         28.6|         31.6|            46.3|            19.0|\n|     Chypre|      4|         1|          25.0|             100.0|                100.0|            4|          0|               1|             0|            0.69|         0.62|                  41|               56|                    66|                 81|                41.0|                 66.0|                14.0|               20.25|           17.3|              11.0|         21.3|         10.3|            39.0|            17.0|\n|     Monaco|      5|         1|          20.0|             100.0|                100.0|            5|          0|               1|             0|            7.31|         8.95|                 170|              190|                    19|                 26|               170.0|                 19.0|                38.0|                 5.2|           51.6|              12.0|         39.6|          8.0|           167.0|             8.0|\n|   Roumanie|     13|         2|          15.4|              76.9|                 50.0|           10|          3|               1|             1|            0.88|         1.26|                  49|               68|                    39|                 77|                24.5|                 19.5|5.230769230769230...|5.923076923076923...|          121.6|              11.0|         10.9|         11.5|            30.0|            32.0|\n| Luxembourg|      7|         1|          14.3|              85.7|                100.0|            6|          1|               1|             0|            5.38|         NULL|                  30|               43|                     0|                  8|                30.0|                  0.0|6.142857142857142...|1.142857142857142...|           73.6|              11.0|         15.9|          8.4|            52.0|             3.0|\n|    Espagne|    119|        13|          10.9|              81.5|                 76.9|           97|         22|              10|             3|            1.67|         2.02|                 607|              990|                   301|                594|46.69230769230769...| 23.15384615384615...|8.319327731092436...|4.991596638655462...|          202.4|              30.5|         16.1|         14.6|            53.2|            14.5|\n|     Italie|    347|        35|          10.1|              71.5|                 65.7|          248|         99|              23|            12|            1.27|         1.29|                1389|             2820|                  1077|               2218|39.68571428571428...| 30.77142857142857...|8.126801152737752...|6.391930835734870...|          141.8|              26.5|         16.1|         54.6|            63.4|           429.3|\n|    Croatie|     10|         1|          10.0|             100.0|                100.0|           10|          0|               1|             0|            1.55|         1.45|                  64|              107|                    44|                 69|                64.0|                 44.0|                10.7|                 6.9|          141.7|              11.0|         15.1|          8.8|            50.0|             8.0|\n|  Hong Kong|     10|         1|          10.0|              70.0|                100.0|            7|          3|               1|             0|            0.91|         0.66|                  23|               50|                    35|                 55|                23.0|                 35.0|                 5.0|                 5.5|           49.6|              11.0|         14.7|         15.5|            36.0|            41.0|\n|      Suède|     32|         3|           9.4|              81.3|                 66.7|           26|          6|               2|             1|            1.45|         1.29|                 202|              336|                   156|                231|67.33333333333333...|                 52.0|                10.5|             7.21875|          118.2|              12.7|         19.8|         24.0|           102.7|           172.0|\n|Royaume-Uni|    289|        21|           7.3|              80.3|                 85.7|          232|         57|              18|             3|            1.95|         2.16|                 972|             1806|                   449|                927|46.28571428571428...| 21.38095238095238...|6.249134948096885...|3.207612456747404...|          188.1|              32.4|         10.1|          8.8|            37.3|             9.1|\n|   Autriche|     18|         1|           5.6|              77.8|                100.0|           14|          4|               1|             0|            1.81|          1.0|                  20|               67|                    20|                 37|                20.0|                 20.0|3.722222222222222...|2.055555555555555...|          138.7|              11.0|          7.0|          8.6|            17.0|            10.0|\n|  Allemagne|    105|         5|           4.8|              75.2|                 80.0|           79|         26|               4|             1|            2.03|         2.85|                 282|              536|                    99|                264|                56.4|                 19.8|5.104761904761904...|2.514285714285714...|          168.2|              79.4|         10.7|          8.8|            53.2|            10.6|\n| Etats-Unis|    150|         6|           4.0|              78.7|                 83.3|          118|         32|               5|             1|            1.19|          1.3|                 558|              967|                   428|                816|                93.0| 71.33333333333333...|6.446666666666666...|                5.44|          266.1|              76.8|         14.6|         10.2|           105.0|            17.2|\n|   Pays-Bas|     54|         2|           3.7|              77.8|                 50.0|           42|         12|               1|             1|            1.54|         1.74|                  47|              214|                    27|                139|                23.5|                 13.5|3.962962962962962...|2.574074074074074...|          177.4|              22.0|         11.4|          9.6|            21.5|            10.0|\n|     France|    713|        25|           3.5|              73.4|                 80.0|          523|        190|              20|             5|            1.59|          1.4|                1109|             3014|                   792|               1892|               44.36|                31.68|4.227208976157082...|2.653576437587657...|          227.1|              36.6|          8.9|         28.3|            41.3|           156.2|\n+-----------+-------+----------+--------------+------------------+---------------------+-------------+-----------+----------------+--------------+----------------+-------------+--------------------+-----------------+----------------------+-------------------+--------------------+---------------------+--------------------+--------------------+---------------+------------------+-------------+-------------+----------------+----------------+\n\n"
     ]
    }
   ],
   "source": [
    "countriesDF.show()"
   ]
  },
  {
   "cell_type": "code",
   "execution_count": 0,
   "metadata": {
    "application/vnd.databricks.v1+cell": {
     "cellMetadata": {
      "byteLimit": 2048000,
      "rowLimit": 10000
     },
     "inputWidgets": {},
     "nuid": "eed628c3-4293-4aec-82a3-e647ff4d2b6c",
     "showTitle": false,
     "title": ""
    }
   },
   "outputs": [],
   "source": [
    "countriesDF.write.format('delta')\\\n",
    "    .mode('overwrite')\\\n",
    "    .save('/mnt/delta/tables/bronze/countries')"
   ]
  },
  {
   "cell_type": "code",
   "execution_count": 0,
   "metadata": {
    "application/vnd.databricks.v1+cell": {
     "cellMetadata": {},
     "inputWidgets": {},
     "nuid": "0f9134d1-b3a6-4cfe-8638-adc42ef58c0a",
     "showTitle": false,
     "title": ""
    }
   },
   "outputs": [],
   "source": []
  }
 ],
 "metadata": {
  "application/vnd.databricks.v1+notebook": {
   "dashboards": [],
   "environmentMetadata": {
    "base_environment": "",
    "client": "1"
   },
   "language": "python",
   "notebookMetadata": {
    "mostRecentlyExecutedCommandWithImplicitDF": {
     "commandId": 422353836847555,
     "dataframes": [
      "_sqldf"
     ]
    },
    "pythonIndentUnit": 4
   },
   "notebookName": "Bronze_Layer",
   "widgets": {}
  }
 },
 "nbformat": 4,
 "nbformat_minor": 0
}
