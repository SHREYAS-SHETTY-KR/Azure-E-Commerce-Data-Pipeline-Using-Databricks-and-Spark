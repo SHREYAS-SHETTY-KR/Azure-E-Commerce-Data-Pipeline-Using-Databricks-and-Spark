{
 "cells": [
  {
   "cell_type": "code",
   "execution_count": 0,
   "metadata": {
    "application/vnd.databricks.v1+cell": {
     "cellMetadata": {
      "byteLimit": 2048000,
      "rowLimit": 10000
     },
     "inputWidgets": {},
     "nuid": "8106edad-85ed-460f-abee-329b0af2393a",
     "showTitle": false,
     "title": ""
    }
   },
   "outputs": [],
   "source": [
    "from pyspark.sql import SparkSession\n",
    "from pyspark.sql.functions import *\n",
    "from pyspark.sql.types import *"
   ]
  },
  {
   "cell_type": "code",
   "execution_count": 0,
   "metadata": {
    "application/vnd.databricks.v1+cell": {
     "cellMetadata": {
      "byteLimit": 2048000,
      "rowLimit": 10000
     },
     "inputWidgets": {},
     "nuid": "7a6365b1-7bc2-4a93-a9e6-19887f5988ef",
     "showTitle": false,
     "title": ""
    }
   },
   "outputs": [],
   "source": [
    "spark = SparkSession.builder.appName('EcomDataPipeline').getOrCreate()"
   ]
  },
  {
   "cell_type": "code",
   "execution_count": 0,
   "metadata": {
    "application/vnd.databricks.v1+cell": {
     "cellMetadata": {
      "byteLimit": 2048000,
      "rowLimit": 10000
     },
     "inputWidgets": {},
     "nuid": "50aa7ff8-ea7a-4755-b848-0cbf2cd727e9",
     "showTitle": false,
     "title": ""
    }
   },
   "outputs": [
    {
     "output_type": "execute_result",
     "data": {
      "text/html": [
       "\n",
       "            <div>\n",
       "                <p><b>SparkSession - hive</b></p>\n",
       "                \n",
       "        <div>\n",
       "            <p><b>SparkContext</b></p>\n",
       "\n",
       "            <p><a href=\"/?o=3249686173585282#setting/sparkui/0826-142609-gk9a2c3u/driver-8413104989531440785\">Spark UI</a></p>\n",
       "\n",
       "            <dl>\n",
       "              <dt>Version</dt>\n",
       "                <dd><code>v3.5.0</code></dd>\n",
       "              <dt>Master</dt>\n",
       "                <dd><code>local[*, 4]</code></dd>\n",
       "              <dt>AppName</dt>\n",
       "                <dd><code>Databricks Shell</code></dd>\n",
       "            </dl>\n",
       "        </div>\n",
       "        \n",
       "            </div>\n",
       "        "
      ],
      "text/plain": [
       "<pyspark.sql.session.SparkSession at 0x7ff37c2d6f20>"
      ]
     },
     "execution_count": 10,
     "metadata": {},
     "output_type": "execute_result"
    }
   ],
   "source": [
    "spark"
   ]
  },
  {
   "cell_type": "code",
   "execution_count": 0,
   "metadata": {
    "application/vnd.databricks.v1+cell": {
     "cellMetadata": {
      "byteLimit": 2048000,
      "rowLimit": 10000
     },
     "inputWidgets": {},
     "nuid": "bb76e942-cef4-4a50-b645-60ae8a63f225",
     "showTitle": false,
     "title": ""
    }
   },
   "outputs": [],
   "source": [
    "usersDF = spark.read.format('delta').load('/mnt/delta/tables/bronze/users')"
   ]
  },
  {
   "cell_type": "code",
   "execution_count": 0,
   "metadata": {
    "application/vnd.databricks.v1+cell": {
     "cellMetadata": {
      "byteLimit": 2048000,
      "rowLimit": 10000
     },
     "inputWidgets": {},
     "nuid": "ab31561b-df77-4e85-81d0-df88f96b2b35",
     "showTitle": false,
     "title": ""
    }
   },
   "outputs": [
    {
     "output_type": "stream",
     "name": "stdout",
     "output_type": "stream",
     "text": [
      "+--------------------+----+-----------+--------+-----------------+---------------+-------------------+--------------+------------+----------------+--------------+--------------+------+----------------+-------------+---------+-------------+---------+-----------------+------------------+---------+-----------------+----------------+-----------+\n|      identifierHash|type|    country|language|socialNbFollowers|socialNbFollows|socialProductsLiked|productsListed|productsSold|productsPassRate|productsWished|productsBought|gender|civilityGenderId|civilityTitle|hasAnyApp|hasAndroidApp|hasIosApp|hasProfilePicture|daysSinceLastLogin|seniority|seniorityAsMonths|seniorityAsYears|countryCode|\n+--------------------+----+-----------+--------+-----------------+---------------+-------------------+--------------+------------+----------------+--------------+--------------+------+----------------+-------------+---------+-------------+---------+-----------------+------------------+---------+-----------------+----------------+-----------+\n|-7279641312655250028|user| Etats-Unis|      en|                3|              8|                  0|             0|           0|             0.0|             0|             0|     F|               2|          mrs|    False|        False|    False|             True|               709|     3205|           106.83|             8.9|         us|\n|-1456013578740053406|user|  Allemagne|      de|                3|              8|                  0|             0|           0|             0.0|             0|             0|     F|               2|          mrs|    False|        False|    False|             True|               709|     3205|           106.83|             8.9|         de|\n| 9006282053848196165|user|      Suède|      en|                3|              8|                  0|             0|           0|             0.0|             0|             0|     M|               1|           mr|     True|        False|     True|             True|               689|     3205|           106.83|             8.9|         se|\n|-7154634866120535654|user|    Turquie|      en|                3|              8|                  0|             0|           0|             0.0|             0|             0|     F|               2|          mrs|    False|        False|    False|             True|               709|     3205|           106.83|             8.9|         tr|\n| 2858299215060733023|user|     France|      en|                3|              8|                  0|             0|           0|             0.0|             0|             0|     M|               1|           mr|     True|        False|     True|             True|               709|     3205|           106.83|             8.9|         fr|\n|-8370972521561479983|user|Royaume-Uni|      en|                3|              8|                  0|             0|           0|             0.0|             0|             0|     F|               2|          mrs|    False|        False|    False|             True|               709|     3205|           106.83|             8.9|         gb|\n|-7877915015908472168|user|Royaume-Uni|      en|                3|              8|                  4|             0|           0|             0.0|             0|             0|     F|               2|          mrs|    False|        False|    False|             True|               591|     3205|           106.83|             8.9|         gb|\n| 7455841332634807036|user|     Italie|      fr|                3|              8|                  0|             0|           0|             0.0|             0|             0|     F|               2|          mrs|     True|         True|    False|             True|               709|     3205|           106.83|             8.9|         it|\n| 4607255007288453096|user|     Italie|      fr|                3|              8|                  0|             0|           0|             0.0|             0|             0|     F|               2|          mrs|     True|         True|    False|             True|               701|     3205|           106.83|             8.9|         it|\n|-7302797141205914253|user|     France|      en|                3|              8|                  0|             0|           0|             0.0|             0|             0|     M|               1|           mr|     True|        False|     True|             True|               703|     3205|           106.83|             8.9|         fr|\n|-6727673442828273069|user| Etats-Unis|      en|                3|              8|                  0|             0|           0|             0.0|             0|             0|     F|               2|          mrs|    False|        False|    False|             True|               709|     3205|           106.83|             8.9|         us|\n|-3703523845250928186|user|    Espagne|      es|                3|              8|                  0|             0|           0|             0.0|             0|             0|     F|               2|          mrs|    False|        False|    False|             True|               709|     3205|           106.83|             8.9|         es|\n| 2543719509187236735|user| Etats-Unis|      en|                3|              8|                  0|             0|           0|             0.0|             0|             0|     F|               2|          mrs|    False|        False|    False|             True|               709|     3205|           106.83|             8.9|         us|\n|-4116451590548020613|user|Royaume-Uni|      en|                3|              8|                  0|             0|           0|             0.0|             0|             0|     F|               2|          mrs|    False|        False|    False|             True|               709|     3205|           106.83|             8.9|         gb|\n| 6412144644819322909|user| Etats-Unis|      en|                3|              8|                  0|             0|           0|             0.0|             0|             0|     F|               2|          mrs|    False|        False|    False|             True|               709|     3205|           106.83|             8.9|         us|\n| -531871068406637242|user|    Espagne|      es|                3|              8|                  0|             0|           0|             0.0|             0|             0|     F|               2|          mrs|    False|        False|    False|             True|               709|     3205|           106.83|             8.9|         es|\n| 6359422170336773354|user| Etats-Unis|      en|                3|              8|                  0|             0|           0|             0.0|             0|             0|     F|               2|          mrs|    False|        False|    False|             True|               558|     3205|           106.83|             8.9|         us|\n|-8231936648814680895|user|   Danemark|      en|                3|              8|                370|             0|           0|             0.0|             1|             0|     F|               2|          mrs|    False|        False|    False|             True|                42|     3205|           106.83|             8.9|         dk|\n| 5663923945758514393|user| Etats-Unis|      en|                3|              8|                  1|             0|           0|             0.0|             0|             0|     F|               2|          mrs|    False|        False|    False|             True|                32|     3205|           106.83|             8.9|         us|\n|-9170487442747331639|user|     France|      fr|                3|              8|                  0|             0|           0|             0.0|             0|             0|     M|               1|           mr|    False|        False|    False|             True|               276|     3205|           106.83|             8.9|         fr|\n+--------------------+----+-----------+--------+-----------------+---------------+-------------------+--------------+------------+----------------+--------------+--------------+------+----------------+-------------+---------+-------------+---------+-----------------+------------------+---------+-----------------+----------------+-----------+\nonly showing top 20 rows\n\n"
     ]
    }
   ],
   "source": [
    "usersDF.show()"
   ]
  },
  {
   "cell_type": "code",
   "execution_count": 0,
   "metadata": {
    "application/vnd.databricks.v1+cell": {
     "cellMetadata": {
      "byteLimit": 2048000,
      "rowLimit": 10000
     },
     "inputWidgets": {},
     "nuid": "b2765f77-f8f2-4eef-a590-f772359f29e2",
     "showTitle": false,
     "title": ""
    }
   },
   "outputs": [],
   "source": [
    "\n",
    "# Normalize country codes to uppercase\n",
    "usersDF = usersDF.withColumn('country', upper(col('country')))"
   ]
  },
  {
   "cell_type": "code",
   "execution_count": 0,
   "metadata": {
    "application/vnd.databricks.v1+cell": {
     "cellMetadata": {
      "byteLimit": 2048000,
      "rowLimit": 10000
     },
     "inputWidgets": {},
     "nuid": "bf6e296b-21d9-4d57-97f2-6c989b464487",
     "showTitle": false,
     "title": ""
    }
   },
   "outputs": [
    {
     "output_type": "stream",
     "name": "stdout",
     "output_type": "stream",
     "text": [
      "+--------------------+\n|             country|\n+--------------------+\n|BOSNIE ET HERZEGO...|\n|             ALBANIE|\n|              SUISSE|\n|               MALTE|\n|            AUTRICHE|\n|               GRÈCE|\n|         PHILIPPINES|\n|            MONGOLIE|\n|             ALGÉRIE|\n|            SLOVÉNIE|\n|            FINLANDE|\n|  NOUVELLE CALÉDONIE|\n|SVALBARD ET JAN M...|\n|             TUNISIE|\n|             GÉORGIE|\n|               CHILI|\n|              CANADA|\n|            ROUMANIE|\n|           THAILANDE|\n|               PÉROU|\n+--------------------+\nonly showing top 20 rows\n\n"
     ]
    }
   ],
   "source": [
    "usersDF.select('country').distinct().show()"
   ]
  },
  {
   "cell_type": "code",
   "execution_count": 0,
   "metadata": {
    "application/vnd.databricks.v1+cell": {
     "cellMetadata": {
      "byteLimit": 2048000,
      "rowLimit": 10000
     },
     "inputWidgets": {},
     "nuid": "181d6443-749c-4172-8f27-23490b04d29a",
     "showTitle": false,
     "title": ""
    }
   },
   "outputs": [],
   "source": [
    "# Handling multiple languages elegantly with `expr` and `case when`\n",
    "usersDF = usersDF.withColumn('language_full', expr(\"CASE WHEN language = 'EN' THEN 'ENGLISH'\" + \"WHEN language = 'ES' THEN 'SPANISH'\" + \"ELSE 'other' END \"))"
   ]
  },
  {
   "cell_type": "code",
   "execution_count": 0,
   "metadata": {
    "application/vnd.databricks.v1+cell": {
     "cellMetadata": {
      "byteLimit": 2048000,
      "rowLimit": 10000
     },
     "collapsed": true,
     "inputWidgets": {},
     "nuid": "cafd9c3c-3334-4002-bc63-1036b7176f80",
     "showTitle": false,
     "title": ""
    }
   },
   "outputs": [
    {
     "output_type": "stream",
     "name": "stdout",
     "output_type": "stream",
     "text": [
      "+-------------+\n|language_full|\n+-------------+\n|        other|\n|        other|\n|        other|\n|        other|\n|        other|\n|        other|\n|        other|\n|        other|\n|        other|\n|        other|\n|        other|\n|        other|\n|        other|\n|        other|\n|        other|\n|        other|\n|        other|\n|        other|\n|        other|\n|        other|\n+-------------+\nonly showing top 20 rows\n\n"
     ]
    }
   ],
   "source": [
    "usersDF.select('language_full').show()"
   ]
  },
  {
   "cell_type": "code",
   "execution_count": 0,
   "metadata": {
    "application/vnd.databricks.v1+cell": {
     "cellMetadata": {
      "byteLimit": 2048000,
      "rowLimit": 10000
     },
     "inputWidgets": {},
     "nuid": "0b2ba196-35dd-4d86-a7a4-9eb32be72dfe",
     "showTitle": false,
     "title": ""
    }
   },
   "outputs": [],
   "source": [
    "# Correcting potential data entry errors in `gender` column\n",
    "\n",
    "usersDF = usersDF.withColumn('gender', \n",
    "                             when(col('gender').startswith('M'), 'Male')\n",
    "                             .when(col('gender').startswith('F'), 'Female')\n",
    "                             .otherwise('Other'))"
   ]
  },
  {
   "cell_type": "code",
   "execution_count": 0,
   "metadata": {
    "application/vnd.databricks.v1+cell": {
     "cellMetadata": {
      "byteLimit": 2048000,
      "rowLimit": 10000
     },
     "inputWidgets": {},
     "nuid": "7d7d6408-acf8-4d1d-a508-5612d67b8086",
     "showTitle": false,
     "title": ""
    }
   },
   "outputs": [],
   "source": [
    "# Using `regexp_replace` to clean `civilitytitle` values\n",
    "usersDF = usersDF.withColumn('civilitytitle_clean', regexp_replace(\"civilitytitle\", \"(Mme|Ms|Mrs)\", \"Ms\"))"
   ]
  },
  {
   "cell_type": "code",
   "execution_count": 0,
   "metadata": {
    "application/vnd.databricks.v1+cell": {
     "cellMetadata": {
      "byteLimit": 2048000,
      "rowLimit": 10000
     },
     "inputWidgets": {},
     "nuid": "ac410135-d37f-4b4d-a217-2bb49fc74de5",
     "showTitle": false,
     "title": ""
    }
   },
   "outputs": [],
   "source": [
    "# Derive new column `years_since_last_login` from `dayssincelastlogin`\n",
    "usersDF = usersDF.withColumn(\"years_since_last_login\", col(\"dayssincelastlogin\") / 365)"
   ]
  },
  {
   "cell_type": "code",
   "execution_count": 0,
   "metadata": {
    "application/vnd.databricks.v1+cell": {
     "cellMetadata": {
      "byteLimit": 2048000,
      "rowLimit": 10000
     },
     "inputWidgets": {},
     "nuid": "4dcd4604-0099-4a64-a4cd-2f9ab98ae9bd",
     "showTitle": false,
     "title": ""
    }
   },
   "outputs": [],
   "source": [
    "# Calculate age of account in years and categorize into `account_age_group`\n",
    "usersDF = usersDF.withColumn('account_age_years', round(col('seniority')/365, 2))\n",
    "usersDF = usersDF.withColumn('account_age_group', when(col('account_age_years') < 1, 'New')\n",
    "                             .when((col('account_age_years') >= 1) & (col('account_age_years') < 3), 'Intermediate')\n",
    "                             .otherwise(\"Experienced\"))"
   ]
  },
  {
   "cell_type": "code",
   "execution_count": 0,
   "metadata": {
    "application/vnd.databricks.v1+cell": {
     "cellMetadata": {
      "byteLimit": 2048000,
      "rowLimit": 10000
     },
     "inputWidgets": {},
     "nuid": "52171424-1243-4e16-8098-772d0006c865",
     "showTitle": false,
     "title": ""
    }
   },
   "outputs": [],
   "source": [
    "\n",
    "# Add a column with the current year for comparison\n",
    "usersDF = usersDF.withColumn('current_year', year(current_date()))"
   ]
  },
  {
   "cell_type": "code",
   "execution_count": 0,
   "metadata": {
    "application/vnd.databricks.v1+cell": {
     "cellMetadata": {
      "byteLimit": 2048000,
      "rowLimit": 10000
     },
     "inputWidgets": {},
     "nuid": "8ba827bd-bdcc-402a-a8c0-60adef6bc4d9",
     "showTitle": false,
     "title": ""
    }
   },
   "outputs": [],
   "source": [
    "# Creatively combining strings to form a unique user descriptor\n",
    "usersDF = usersDF.withColumn('user_descriptor', \n",
    "                             concat(col('gender'), lit('_'),\n",
    "                                    col('countryCode'), lit('_'),\n",
    "                                    expr('substring(civilitytitle_clean, 1, 3)'), lit('_'),\n",
    "                                         col('language_full')))\n"
   ]
  },
  {
   "cell_type": "code",
   "execution_count": 0,
   "metadata": {
    "application/vnd.databricks.v1+cell": {
     "cellMetadata": {
      "byteLimit": 2048000,
      "rowLimit": 10000
     },
     "inputWidgets": {},
     "nuid": "fc6fbc49-bcdb-416a-9bdf-b708547af564",
     "showTitle": false,
     "title": ""
    }
   },
   "outputs": [],
   "source": [
    "usersDF = usersDF.withColumn(\"flag_long_title\", length(col('civilitytitle')) > 10)"
   ]
  },
  {
   "cell_type": "code",
   "execution_count": 0,
   "metadata": {
    "application/vnd.databricks.v1+cell": {
     "cellMetadata": {
      "byteLimit": 2048000,
      "rowLimit": 10000
     },
     "inputWidgets": {},
     "nuid": "c1787d8e-ed8c-442d-809b-cb45c446af75",
     "showTitle": false,
     "title": ""
    }
   },
   "outputs": [],
   "source": [
    "usersDF = usersDF.withColumn(\"hasanyapp\", col(\"hasanyapp\").cast(\"boolean\"))\n",
    "usersDF = usersDF.withColumn(\"hasandroidapp\", col(\"hasandroidapp\").cast(\"boolean\"))\n",
    "usersDF = usersDF.withColumn(\"hasiosapp\", col(\"hasiosapp\").cast(\"boolean\"))\n",
    "usersDF = usersDF.withColumn(\"hasprofilepicture\", col(\"hasprofilepicture\").cast(\"boolean\"))\n",
    "\n",
    "\n",
    "usersDF = usersDF.withColumn(\"socialnbfollowers\", col(\"socialnbfollowers\").cast(IntegerType()))\n",
    "usersDF = usersDF.withColumn(\"socialnbfollows\", col(\"socialnbfollows\").cast(IntegerType()))\n",
    "\n",
    "usersDF = usersDF.withColumn(\"productspassrate\", col(\"productspassrate\").cast(DecimalType(10, 2)))\n",
    "usersDF = usersDF.withColumn(\"seniorityasmonths\", col(\"seniorityasmonths\").cast(DecimalType(10, 2)))\n",
    "usersDF = usersDF.withColumn(\"seniorityasyears\", col(\"seniorityasyears\").cast(DecimalType(10, 2)))\n"
   ]
  },
  {
   "cell_type": "code",
   "execution_count": 0,
   "metadata": {
    "application/vnd.databricks.v1+cell": {
     "cellMetadata": {
      "byteLimit": 2048000,
      "rowLimit": 10000
     },
     "inputWidgets": {},
     "nuid": "e2264b2b-6b6c-4c70-824a-e222cfd4ab0e",
     "showTitle": false,
     "title": ""
    }
   },
   "outputs": [],
   "source": [
    "usersDF = usersDF.withColumn(\"dayssincelastlogin\",\n",
    "                             when(col(\"dayssincelastlogin\").isNotNull(),\n",
    "                                  col(\"dayssincelastlogin\").cast(IntegerType()))\n",
    "                             .otherwise(0))"
   ]
  },
  {
   "cell_type": "code",
   "execution_count": 0,
   "metadata": {
    "application/vnd.databricks.v1+cell": {
     "cellMetadata": {
      "byteLimit": 2048000,
      "rowLimit": 10000
     },
     "inputWidgets": {},
     "nuid": "63350305-c7c5-4a28-8427-e00f14f1ae75",
     "showTitle": false,
     "title": ""
    }
   },
   "outputs": [],
   "source": [
    "usersDF.write.format('delta').mode(\"overwrite\").save(\"/mnt/delta/tables/silver/users\")"
   ]
  },
  {
   "cell_type": "code",
   "execution_count": 0,
   "metadata": {
    "application/vnd.databricks.v1+cell": {
     "cellMetadata": {
      "byteLimit": 2048000,
      "rowLimit": 10000
     },
     "inputWidgets": {},
     "nuid": "29ca7f8f-e61c-479c-9210-48b7fa8e2a47",
     "showTitle": false,
     "title": ""
    }
   },
   "outputs": [],
   "source": [
    "buyersDF = spark.read.format(\"delta\").load(\"/mnt/delta/tables/bronze/buyers\")"
   ]
  },
  {
   "cell_type": "code",
   "execution_count": 0,
   "metadata": {
    "application/vnd.databricks.v1+cell": {
     "cellMetadata": {
      "byteLimit": 2048000,
      "rowLimit": 10000
     },
     "inputWidgets": {},
     "nuid": "36f9cba3-335b-40c2-8584-e11adfd400fe",
     "showTitle": false,
     "title": ""
    }
   },
   "outputs": [],
   "source": [
    "# Casting Integer columns\n",
    "integer_columns = [\n",
    "    'buyers', 'topbuyers', 'femalebuyers', 'malebuyers',\n",
    "    'topfemalebuyers', 'topmalebuyers', 'totalproductsbought',\n",
    "    'totalproductswished', 'totalproductsliked', 'toptotalproductsbought',\n",
    "    'toptotalproductswished', 'toptotalproductsliked'\n",
    "]\n",
    "\n",
    "for column_name in integer_columns:\n",
    "    buyersDF = buyersDF.withColumn(column_name, col(column_name).cast(IntegerType()))"
   ]
  },
  {
   "cell_type": "code",
   "execution_count": 0,
   "metadata": {
    "application/vnd.databricks.v1+cell": {
     "cellMetadata": {
      "byteLimit": 2048000,
      "rowLimit": 10000
     },
     "inputWidgets": {},
     "nuid": "212210a2-24d2-443f-bd9e-fa35cdeaeca0",
     "showTitle": false,
     "title": ""
    }
   },
   "outputs": [],
   "source": [
    "\n",
    "\n",
    "# Casting Decimal columns\n",
    "decimal_columns = [\n",
    "    'topbuyerratio', 'femalebuyersratio', 'topfemalebuyersratio',\n",
    "    'boughtperwishlistratio', 'boughtperlikeratio', 'topboughtperwishlistratio',\n",
    "    'topboughtperlikeratio', 'meanproductsbought', 'meanproductswished',\n",
    "    'meanproductsliked', 'topmeanproductsbought', 'topmeanproductswished',\n",
    "    'topmeanproductsliked', 'meanofflinedays', 'topmeanofflinedays',\n",
    "    'meanfollowers', 'meanfollowing', 'topmeanfollowers', 'topmeanfollowing'\n",
    "]\n",
    "\n",
    "for column_name in decimal_columns:\n",
    "    buyersDF = buyersDF.withColumn(column_name, col(column_name).cast(DecimalType(10, 2)))\n"
   ]
  },
  {
   "cell_type": "code",
   "execution_count": 0,
   "metadata": {
    "application/vnd.databricks.v1+cell": {
     "cellMetadata": {
      "byteLimit": 2048000,
      "rowLimit": 10000
     },
     "inputWidgets": {},
     "nuid": "f80da159-ba7c-4743-8737-a5163d58e175",
     "showTitle": false,
     "title": ""
    }
   },
   "outputs": [],
   "source": [
    "# Normalize country names\n",
    "buyersDF = buyersDF.withColumn(\"country\", initcap(col(\"country\")))\n",
    "\n",
    "for col_name in integer_columns:\n",
    "    buyersDF = buyersDF.fillna({col_name: 0})\n",
    "\n",
    "# Calculate the ratio of female to male buyers\n",
    "buyersDF = buyersDF.withColumn(\"female_to_male_ratio\", round(col(\"femalebuyers\") / (col(\"malebuyers\")+1), 2))\n",
    "\n",
    "# Determine the market potential by comparing wishlist and purchases\n",
    "buyersDF = buyersDF.withColumn('wishlist_to_purchase_ratio', round(col(\"totalproductswished\") / (col(\"totalproductsbought\") + 1), 2))\n",
    "\n",
    "# Tag countries with a high engagement ratio\n",
    "high_engagement_threshold = 0.5\n",
    "buyersDF = buyersDF.withColumn(\"high_engagement\",\n",
    "                               when(col(\"boughtperwishlistratio\") > high_engagement_threshold, True)\n",
    "                               .otherwise(False))\n",
    "\n",
    "# Flag markets with increasing female buyer participation\n",
    "buyersDF = buyersDF.withColumn(\"growing_female_market\",\n",
    "                               when(col(\"femalebuyersratio\") > col(\"topfemalebuyersratio\"), True)\n",
    "                               .otherwise(False))\n"
   ]
  },
  {
   "cell_type": "code",
   "execution_count": 0,
   "metadata": {
    "application/vnd.databricks.v1+cell": {
     "cellMetadata": {
      "byteLimit": 2048000,
      "rowLimit": 10000
     },
     "inputWidgets": {},
     "nuid": "66124cd1-8469-4e38-b85e-3307e6764cdd",
     "showTitle": false,
     "title": ""
    }
   },
   "outputs": [],
   "source": [
    "\n",
    "buyersDF.write.format(\"delta\").mode(\"overwrite\").save(\"/mnt/delta/tables/silver/buyers\")"
   ]
  },
  {
   "cell_type": "code",
   "execution_count": 0,
   "metadata": {
    "application/vnd.databricks.v1+cell": {
     "cellMetadata": {
      "byteLimit": 2048000,
      "rowLimit": 10000
     },
     "inputWidgets": {},
     "nuid": "88a3b085-1951-4ebf-8c19-3017d778a12c",
     "showTitle": false,
     "title": ""
    }
   },
   "outputs": [],
   "source": [
    "sellersDF = spark.read.format(\"delta\").load(\"/mnt/delta/tables/bronze/sellers\")"
   ]
  },
  {
   "cell_type": "code",
   "execution_count": 0,
   "metadata": {
    "application/vnd.databricks.v1+cell": {
     "cellMetadata": {
      "byteLimit": 2048000,
      "rowLimit": 10000
     },
     "inputWidgets": {},
     "nuid": "355ee912-5e8b-4ce1-87da-9fcce8d5f53d",
     "showTitle": false,
     "title": ""
    }
   },
   "outputs": [],
   "source": [
    "sellersDF = sellersDF \\\n",
    "    .withColumn(\"nbsellers\", col(\"nbsellers\").cast(IntegerType())) \\\n",
    "    .withColumn(\"meanproductssold\", col(\"meanproductssold\").cast(DecimalType(10, 2))) \\\n",
    "    .withColumn(\"meanproductslisted\", col(\"meanproductslisted\").cast(DecimalType(10, 2))) \\\n",
    "    .withColumn(\"meansellerpassrate\", col(\"meansellerpassrate\").cast(DecimalType(10, 2))) \\\n",
    "    .withColumn(\"totalproductssold\", col(\"totalproductssold\").cast(IntegerType())) \\\n",
    "    .withColumn(\"totalproductslisted\", col(\"totalproductslisted\").cast(IntegerType())) \\\n",
    "    .withColumn(\"meanproductsbought\", col(\"meanproductsbought\").cast(DecimalType(10, 2))) \\\n",
    "    .withColumn(\"meanproductswished\", col(\"meanproductswished\").cast(DecimalType(10, 2))) \\\n",
    "    .withColumn(\"meanproductsliked\", col(\"meanproductsliked\").cast(DecimalType(10, 2))) \\\n",
    "    .withColumn(\"totalbought\", col(\"totalbought\").cast(IntegerType())) \\\n",
    "    .withColumn(\"totalwished\", col(\"totalwished\").cast(IntegerType())) \\\n",
    "    .withColumn(\"totalproductsliked\", col(\"totalproductsliked\").cast(IntegerType())) \\\n",
    "    .withColumn(\"meanfollowers\", col(\"meanfollowers\").cast(DecimalType(10, 2))) \\\n",
    "    .withColumn(\"meanfollows\", col(\"meanfollows\").cast(DecimalType(10, 2))) \\\n",
    "    .withColumn(\"percentofappusers\", col(\"percentofappusers\").cast(DecimalType(10, 2))) \\\n",
    "    .withColumn(\"percentofiosusers\", col(\"percentofiosusers\").cast(DecimalType(10, 2))) \\\n",
    "    .withColumn(\"meanseniority\", col(\"meanseniority\").cast(DecimalType(10, 2)))"
   ]
  },
  {
   "cell_type": "code",
   "execution_count": 0,
   "metadata": {
    "application/vnd.databricks.v1+cell": {
     "cellMetadata": {
      "byteLimit": 2048000,
      "rowLimit": 10000
     },
     "inputWidgets": {},
     "nuid": "55f91961-17fd-4268-b5a7-083a06d7c66d",
     "showTitle": false,
     "title": ""
    }
   },
   "outputs": [],
   "source": [
    "# Normalize country names and gender values\n",
    "sellersDF = sellersDF.withColumn(\"country\", initcap(col(\"country\"))) \\\n",
    "                                                .withColumn(\"sex\", upper(col(\"sex\")))\n",
    "\n",
    "\n",
    "#Add a column to categorize the number of sellers\n",
    "sellersDF = sellersDF.withColumn(\"seller_size_category\", \n",
    "                               when(col(\"nbsellers\") < 500, \"Small\") \\\n",
    "                               .when((col(\"nbsellers\") >= 500) & (col(\"nbsellers\") < 2000), \"Medium\") \\\n",
    "                               .otherwise(\"Large\"))\n",
    "\n",
    "# Calculate the mean products listed per seller as an indicator of seller activity\n",
    "sellersDF = sellersDF.withColumn(\"mean_products_listed_per_seller\", \n",
    "                               round(col(\"totalproductslisted\") / col(\"nbsellers\"), 2))\n",
    "\n",
    "# Identify markets with high seller pass rate\n",
    "sellersDF = sellersDF.withColumn(\"high_seller_pass_rate\", \n",
    "                               when(col(\"meansellerpassrate\") > 0.75, \"High\") \\\n",
    "                               .otherwise(\"Normal\"))\n",
    "\n",
    "mean_pass_rate = sellersDF.select(round(avg(\"meansellerpassrate\"), 2).alias(\"avg_pass_rate\")).collect()[0][\"avg_pass_rate\"]\n",
    "\n",
    "sellersDF = sellersDF.withColumn(\"meansellerpassrate\",\n",
    "                                 when(col(\"meansellerpassrate\").isNull(), mean_pass_rate)\n",
    "                                 .otherwise(col(\"meansellerpassrate\")))\n",
    "\n",
    "sellersDF.write.format(\"delta\").mode(\"overwrite\").save(\"/mnt/delta/tables/silver/sellers\")\n",
    "\n",
    "     "
   ]
  },
  {
   "cell_type": "code",
   "execution_count": 0,
   "metadata": {
    "application/vnd.databricks.v1+cell": {
     "cellMetadata": {
      "byteLimit": 2048000,
      "rowLimit": 10000
     },
     "inputWidgets": {},
     "nuid": "ee3ffaba-484e-4cba-a478-f462cf410888",
     "showTitle": false,
     "title": ""
    }
   },
   "outputs": [],
   "source": [
    "from pyspark.sql.functions import col\n",
    "countriesDF = spark.read.format(\"delta\").load(\"/mnt/delta/tables/bronze/countries\")\\\n",
    "    .withColumn(\"sellers\", col(\"sellers\").cast(IntegerType())) \\\n",
    "    .withColumn(\"topsellers\", col(\"topsellers\").cast(IntegerType())) \\\n",
    "    .withColumn(\"topsellerratio\", col(\"topsellerratio\").cast(DecimalType(10, 2))) \\\n",
    "    .withColumn(\"femalesellersratio\", col(\"femalesellersratio\").cast(DecimalType(10, 2))) \\\n",
    "    .withColumn(\"topfemalesellersratio\", col(\"topfemalesellersratio\").cast(DecimalType(10, 2))) \\\n",
    "    .withColumn(\"femalesellers\", col(\"femalesellers\").cast(IntegerType())) \\\n",
    "    .withColumn(\"malesellers\", col(\"malesellers\").cast(IntegerType())) \\\n",
    "    .withColumn(\"topfemalesellers\", col(\"topfemalesellers\").cast(IntegerType())) \\\n",
    "    .withColumn(\"topmalesellers\", col(\"topmalesellers\").cast(IntegerType())) \\\n",
    "    .withColumn(\"countrysoldratio\", col(\"countrysoldratio\").cast(DecimalType(10, 2))) \\\n",
    "    .withColumn(\"bestsoldratio\", col(\"bestsoldratio\").cast(DecimalType(10, 2))) \\\n",
    "    .withColumn(\"toptotalproductssold\", col(\"toptotalproductssold\").cast(IntegerType())) \\\n",
    "    .withColumn(\"totalproductssold\", col(\"totalproductssold\").cast(IntegerType())) \\\n",
    "    .withColumn(\"toptotalproductslisted\", col(\"toptotalproductslisted\").cast(IntegerType())) \\\n",
    "    .withColumn(\"totalproductslisted\", col(\"totalproductslisted\").cast(IntegerType())) \\\n",
    "    .withColumn(\"topmeanproductssold\", col(\"topmeanproductssold\").cast(DecimalType(10, 2))) \\\n",
    "    .withColumn(\"topmeanproductslisted\", col(\"topmeanproductslisted\").cast(DecimalType(10, 2))) \\\n",
    "    .withColumn(\"meanproductssold\", col(\"meanproductssold\").cast(DecimalType(10, 2))) \\\n",
    "    .withColumn(\"meanproductslisted\", col(\"meanproductslisted\").cast(DecimalType(10, 2))) \\\n",
    "    .withColumn(\"meanofflinedays\", col(\"meanofflinedays\").cast(DecimalType(10, 2))) \\\n",
    "    .withColumn(\"topmeanofflinedays\", col(\"topmeanofflinedays\").cast(DecimalType(10, 2))) \\\n",
    "    .withColumn(\"meanfollowers\", col(\"meanfollowers\").cast(DecimalType(10, 2))) \\\n",
    "    .withColumn(\"meanfollowing\", col(\"meanfollowing\").cast(DecimalType(10, 2))) \\\n",
    "    .withColumn(\"topmeanfollowers\", col(\"topmeanfollowers\").cast(DecimalType(10, 2))) \\\n",
    "    .withColumn(\"topmeanfollowing\", col(\"topmeanfollowing\").cast(DecimalType(10, 2)))\n",
    "\n",
    "countriesDF = countriesDF.withColumn(\"country\", initcap(col(\"country\")))\n",
    "\n",
    "\n",
    "# Calculating the ratio of top sellers to total sellers\n",
    "countriesDF = countriesDF.withColumn(\"top_seller_ratio\", \n",
    "                                        round(col(\"topsellers\") / col(\"sellers\"), 2))\n",
    "\n",
    "# countriesDF countries with a high ratio of female sellers\n",
    "countriesDF = countriesDF.withColumn(\"high_female_seller_ratio\", \n",
    "                                        when(col(\"femalesellersratio\") > 0.5, True).otherwise(False))\n",
    "\n",
    "# Adding a performance indicator based on the sold/listed ratio\n",
    "countriesDF = countriesDF.withColumn(\"performance_indicator\", \n",
    "                                        round(col(\"toptotalproductssold\") / (col(\"toptotalproductslisted\") + 1), 2))\n",
    "\n",
    "# Flag countries with exceptionally high performance\n",
    "performance_threshold = 0.8\n",
    "countriesDF = countriesDF.withColumn(\"high_performance\", \n",
    "                                        when(col(\"performance_indicator\") > performance_threshold, True).otherwise(False))\n",
    "\n",
    "countriesDF = countriesDF.withColumn(\"activity_level\",\n",
    "                                       when(col(\"meanofflinedays\") < 30, \"Highly Active\")\n",
    "                                       .when((col(\"meanofflinedays\") >= 30) & (col(\"meanofflinedays\") < 60), \"Moderately Active\")\n",
    "                                       .otherwise(\"Low Activity\"))\n",
    "\n",
    "\n",
    "countriesDF.write.format(\"delta\").mode(\"overwrite\").save(\"/mnt/delta/tables/silver/countries\")"
   ]
  }
 ],
 "metadata": {
  "application/vnd.databricks.v1+notebook": {
   "dashboards": [],
   "environmentMetadata": {
    "base_environment": "",
    "client": "1"
   },
   "language": "python",
   "notebookMetadata": {
    "mostRecentlyExecutedCommandWithImplicitDF": {
     "commandId": 889012400700014,
     "dataframes": [
      "_sqldf"
     ]
    },
    "pythonIndentUnit": 4
   },
   "notebookName": "Silver_layer",
   "widgets": {}
  }
 },
 "nbformat": 4,
 "nbformat_minor": 0
}
